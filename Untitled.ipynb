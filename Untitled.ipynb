{
 "cells": [
  {
   "cell_type": "code",
   "execution_count": 1,
   "id": "2722e4b4-b4ff-4c2b-96c9-fecc34737781",
   "metadata": {},
   "outputs": [
    {
     "name": "stdout",
     "output_type": "stream",
     "text": [
      "Collecting ultralytics\n",
      "  Downloading ultralytics-8.1.47-py3-none-any.whl.metadata (40 kB)\n",
      "\u001b[2K     \u001b[90m━━━━━━━━━━━━━━━━━━━━━━━━━━━━━━━━━━━━━━━━\u001b[0m \u001b[32m40.5/40.5 kB\u001b[0m \u001b[31m1.0 MB/s\u001b[0m eta \u001b[36m0:00:00\u001b[0m\n",
      "\u001b[?25hRequirement already satisfied: matplotlib>=3.3.0 in /opt/anaconda3/lib/python3.11/site-packages (from ultralytics) (3.8.0)\n",
      "Requirement already satisfied: opencv-python>=4.6.0 in /opt/anaconda3/lib/python3.11/site-packages (from ultralytics) (4.9.0.80)\n",
      "Requirement already satisfied: pillow>=7.1.2 in /opt/anaconda3/lib/python3.11/site-packages (from ultralytics) (10.2.0)\n",
      "Requirement already satisfied: pyyaml>=5.3.1 in /opt/anaconda3/lib/python3.11/site-packages (from ultralytics) (6.0.1)\n",
      "Requirement already satisfied: requests>=2.23.0 in /opt/anaconda3/lib/python3.11/site-packages (from ultralytics) (2.31.0)\n",
      "Requirement already satisfied: scipy>=1.4.1 in /opt/anaconda3/lib/python3.11/site-packages (from ultralytics) (1.11.4)\n",
      "Requirement already satisfied: torch>=1.8.0 in /opt/anaconda3/lib/python3.11/site-packages (from ultralytics) (2.2.2)\n",
      "Requirement already satisfied: torchvision>=0.9.0 in /opt/anaconda3/lib/python3.11/site-packages (from ultralytics) (0.17.2)\n",
      "Requirement already satisfied: tqdm>=4.64.0 in /opt/anaconda3/lib/python3.11/site-packages (from ultralytics) (4.65.0)\n",
      "Requirement already satisfied: psutil in /opt/anaconda3/lib/python3.11/site-packages (from ultralytics) (5.9.0)\n",
      "Requirement already satisfied: py-cpuinfo in /opt/anaconda3/lib/python3.11/site-packages (from ultralytics) (9.0.0)\n",
      "Requirement already satisfied: thop>=0.1.1 in /opt/anaconda3/lib/python3.11/site-packages (from ultralytics) (0.1.1.post2209072238)\n",
      "Requirement already satisfied: pandas>=1.1.4 in /opt/anaconda3/lib/python3.11/site-packages (from ultralytics) (2.1.4)\n",
      "Requirement already satisfied: seaborn>=0.11.0 in /opt/anaconda3/lib/python3.11/site-packages (from ultralytics) (0.12.2)\n",
      "Requirement already satisfied: contourpy>=1.0.1 in /opt/anaconda3/lib/python3.11/site-packages (from matplotlib>=3.3.0->ultralytics) (1.2.0)\n",
      "Requirement already satisfied: cycler>=0.10 in /opt/anaconda3/lib/python3.11/site-packages (from matplotlib>=3.3.0->ultralytics) (0.10.0)\n",
      "Requirement already satisfied: fonttools>=4.22.0 in /opt/anaconda3/lib/python3.11/site-packages (from matplotlib>=3.3.0->ultralytics) (4.25.0)\n",
      "Requirement already satisfied: kiwisolver>=1.0.1 in /opt/anaconda3/lib/python3.11/site-packages (from matplotlib>=3.3.0->ultralytics) (1.4.4)\n",
      "Requirement already satisfied: numpy<2,>=1.21 in /opt/anaconda3/lib/python3.11/site-packages (from matplotlib>=3.3.0->ultralytics) (1.26.4)\n",
      "Requirement already satisfied: packaging>=20.0 in /opt/anaconda3/lib/python3.11/site-packages (from matplotlib>=3.3.0->ultralytics) (23.1)\n",
      "Requirement already satisfied: pyparsing>=2.3.1 in /opt/anaconda3/lib/python3.11/site-packages (from matplotlib>=3.3.0->ultralytics) (3.0.9)\n",
      "Requirement already satisfied: python-dateutil>=2.7 in /opt/anaconda3/lib/python3.11/site-packages (from matplotlib>=3.3.0->ultralytics) (2.8.2)\n",
      "Requirement already satisfied: pytz>=2020.1 in /opt/anaconda3/lib/python3.11/site-packages (from pandas>=1.1.4->ultralytics) (2023.3.post1)\n",
      "Requirement already satisfied: tzdata>=2022.1 in /opt/anaconda3/lib/python3.11/site-packages (from pandas>=1.1.4->ultralytics) (2023.3)\n",
      "Requirement already satisfied: charset-normalizer<4,>=2 in /opt/anaconda3/lib/python3.11/site-packages (from requests>=2.23.0->ultralytics) (2.0.4)\n",
      "Requirement already satisfied: idna<4,>=2.5 in /opt/anaconda3/lib/python3.11/site-packages (from requests>=2.23.0->ultralytics) (2.10)\n",
      "Requirement already satisfied: urllib3<3,>=1.21.1 in /opt/anaconda3/lib/python3.11/site-packages (from requests>=2.23.0->ultralytics) (2.0.7)\n",
      "Requirement already satisfied: certifi>=2017.4.17 in /opt/anaconda3/lib/python3.11/site-packages (from requests>=2.23.0->ultralytics) (2023.7.22)\n",
      "Requirement already satisfied: filelock in /opt/anaconda3/lib/python3.11/site-packages (from torch>=1.8.0->ultralytics) (3.13.1)\n",
      "Requirement already satisfied: typing-extensions>=4.8.0 in /opt/anaconda3/lib/python3.11/site-packages (from torch>=1.8.0->ultralytics) (4.9.0)\n",
      "Requirement already satisfied: sympy in /opt/anaconda3/lib/python3.11/site-packages (from torch>=1.8.0->ultralytics) (1.12)\n",
      "Requirement already satisfied: networkx in /opt/anaconda3/lib/python3.11/site-packages (from torch>=1.8.0->ultralytics) (3.1)\n",
      "Requirement already satisfied: jinja2 in /opt/anaconda3/lib/python3.11/site-packages (from torch>=1.8.0->ultralytics) (3.1.3)\n",
      "Requirement already satisfied: fsspec in /opt/anaconda3/lib/python3.11/site-packages (from torch>=1.8.0->ultralytics) (2023.10.0)\n",
      "Requirement already satisfied: six in /opt/anaconda3/lib/python3.11/site-packages (from cycler>=0.10->matplotlib>=3.3.0->ultralytics) (1.16.0)\n",
      "Requirement already satisfied: MarkupSafe>=2.0 in /opt/anaconda3/lib/python3.11/site-packages (from jinja2->torch>=1.8.0->ultralytics) (2.1.3)\n",
      "Requirement already satisfied: mpmath>=0.19 in /opt/anaconda3/lib/python3.11/site-packages (from sympy->torch>=1.8.0->ultralytics) (1.3.0)\n",
      "Downloading ultralytics-8.1.47-py3-none-any.whl (750 kB)\n",
      "\u001b[2K   \u001b[90m━━━━━━━━━━━━━━━━━━━━━━━━━━━━━━━━━━━━━━━━\u001b[0m \u001b[32m750.4/750.4 kB\u001b[0m \u001b[31m3.0 MB/s\u001b[0m eta \u001b[36m0:00:00\u001b[0m00:01\u001b[0m00:01\u001b[0m\n",
      "\u001b[?25hInstalling collected packages: ultralytics\n",
      "Successfully installed ultralytics-8.1.47\n",
      "Note: you may need to restart the kernel to use updated packages.\n"
     ]
    }
   ],
   "source": [
    "pip install ultralytics"
   ]
  },
  {
   "cell_type": "code",
   "execution_count": 1,
   "id": "008ec274-0a9d-4246-ba89-41f1b4e17549",
   "metadata": {},
   "outputs": [
    {
     "name": "stdout",
     "output_type": "stream",
     "text": [
      "Ultralytics YOLOv8.1.47 🚀 Python-3.11.7 torch-2.2.2 CPU (Intel Core(TM) i5-4260U 1.40GHz)\n",
      "\u001b[34m\u001b[1mengine/trainer: \u001b[0mtask=detect, mode=train, model=yolov8n.pt, data=data.yaml, epochs=50, time=None, patience=100, batch=16, imgsz=640, save=True, save_period=-1, cache=False, device=None, workers=8, project=None, name=train, exist_ok=False, pretrained=True, optimizer=auto, verbose=True, seed=0, deterministic=True, single_cls=False, rect=False, cos_lr=False, close_mosaic=10, resume=False, amp=True, fraction=1.0, profile=False, freeze=None, multi_scale=False, overlap_mask=True, mask_ratio=4, dropout=0.0, val=True, split=val, save_json=False, save_hybrid=False, conf=None, iou=0.7, max_det=300, half=False, dnn=False, plots=True, source=None, vid_stride=1, stream_buffer=False, visualize=False, augment=False, agnostic_nms=False, classes=None, retina_masks=False, embed=None, show=False, save_frames=False, save_txt=False, save_conf=False, save_crop=False, show_labels=True, show_conf=True, show_boxes=True, line_width=None, format=torchscript, keras=False, optimize=False, int8=False, dynamic=False, simplify=False, opset=None, workspace=4, nms=False, lr0=0.01, lrf=0.01, momentum=0.937, weight_decay=0.0005, warmup_epochs=3.0, warmup_momentum=0.8, warmup_bias_lr=0.1, box=7.5, cls=0.5, dfl=1.5, pose=12.0, kobj=1.0, label_smoothing=0.0, nbs=64, hsv_h=0.015, hsv_s=0.7, hsv_v=0.4, degrees=0.0, translate=0.1, scale=0.5, shear=0.0, perspective=0.0, flipud=0.0, fliplr=0.5, bgr=0.0, mosaic=1.0, mixup=0.0, copy_paste=0.0, auto_augment=randaugment, erasing=0.4, crop_fraction=1.0, cfg=None, tracker=botsort.yaml, save_dir=runs/detect/train\n",
      "Overriding model.yaml nc=80 with nc=1\n",
      "\n",
      "                   from  n    params  module                                       arguments                     \n",
      "  0                  -1  1       464  ultralytics.nn.modules.conv.Conv             [3, 16, 3, 2]                 \n",
      "  1                  -1  1      4672  ultralytics.nn.modules.conv.Conv             [16, 32, 3, 2]                \n",
      "  2                  -1  1      7360  ultralytics.nn.modules.block.C2f             [32, 32, 1, True]             \n",
      "  3                  -1  1     18560  ultralytics.nn.modules.conv.Conv             [32, 64, 3, 2]                \n",
      "  4                  -1  2     49664  ultralytics.nn.modules.block.C2f             [64, 64, 2, True]             \n",
      "  5                  -1  1     73984  ultralytics.nn.modules.conv.Conv             [64, 128, 3, 2]               \n",
      "  6                  -1  2    197632  ultralytics.nn.modules.block.C2f             [128, 128, 2, True]           \n",
      "  7                  -1  1    295424  ultralytics.nn.modules.conv.Conv             [128, 256, 3, 2]              \n",
      "  8                  -1  1    460288  ultralytics.nn.modules.block.C2f             [256, 256, 1, True]           \n",
      "  9                  -1  1    164608  ultralytics.nn.modules.block.SPPF            [256, 256, 5]                 \n",
      " 10                  -1  1         0  torch.nn.modules.upsampling.Upsample         [None, 2, 'nearest']          \n",
      " 11             [-1, 6]  1         0  ultralytics.nn.modules.conv.Concat           [1]                           \n",
      " 12                  -1  1    148224  ultralytics.nn.modules.block.C2f             [384, 128, 1]                 \n",
      " 13                  -1  1         0  torch.nn.modules.upsampling.Upsample         [None, 2, 'nearest']          \n",
      " 14             [-1, 4]  1         0  ultralytics.nn.modules.conv.Concat           [1]                           \n",
      " 15                  -1  1     37248  ultralytics.nn.modules.block.C2f             [192, 64, 1]                  \n",
      " 16                  -1  1     36992  ultralytics.nn.modules.conv.Conv             [64, 64, 3, 2]                \n",
      " 17            [-1, 12]  1         0  ultralytics.nn.modules.conv.Concat           [1]                           \n",
      " 18                  -1  1    123648  ultralytics.nn.modules.block.C2f             [192, 128, 1]                 \n",
      " 19                  -1  1    147712  ultralytics.nn.modules.conv.Conv             [128, 128, 3, 2]              \n",
      " 20             [-1, 9]  1         0  ultralytics.nn.modules.conv.Concat           [1]                           \n",
      " 21                  -1  1    493056  ultralytics.nn.modules.block.C2f             [384, 256, 1]                 \n",
      " 22        [15, 18, 21]  1    751507  ultralytics.nn.modules.head.Detect           [1, [64, 128, 256]]           \n",
      "Model summary: 225 layers, 3011043 parameters, 3011027 gradients, 8.2 GFLOPs\n",
      "\n",
      "Transferred 319/355 items from pretrained weights\n",
      "\u001b[34m\u001b[1mTensorBoard: \u001b[0mStart with 'tensorboard --logdir runs/detect/train', view at http://localhost:6006/\n",
      "Freezing layer 'model.22.dfl.conv.weight'\n"
     ]
    },
    {
     "name": "stderr",
     "output_type": "stream",
     "text": [
      "\u001b[34m\u001b[1mtrain: \u001b[0mScanning /Users/home/yolov8/train/labels.cache... 577 images, 0 backgroun\u001b[0m\n",
      "\u001b[34m\u001b[1mval: \u001b[0mScanning /Users/home/yolov8/valid/labels.cache... 204 images, 0 backgrounds\u001b[0m\n"
     ]
    },
    {
     "name": "stdout",
     "output_type": "stream",
     "text": [
      "Plotting labels to runs/detect/train/labels.jpg... \n",
      "\u001b[34m\u001b[1moptimizer:\u001b[0m 'optimizer=auto' found, ignoring 'lr0=0.01' and 'momentum=0.937' and determining best 'optimizer', 'lr0' and 'momentum' automatically... \n",
      "\u001b[34m\u001b[1moptimizer:\u001b[0m AdamW(lr=0.002, momentum=0.9) with parameter groups 57 weight(decay=0.0), 64 weight(decay=0.0005), 63 bias(decay=0.0)\n",
      "\u001b[34m\u001b[1mTensorBoard: \u001b[0mmodel graph visualization added ✅\n",
      "Image sizes 640 train, 640 val\n",
      "Using 0 dataloader workers\n",
      "Logging results to \u001b[1mruns/detect/train\u001b[0m\n",
      "Starting training for 50 epochs...\n",
      "\n",
      "      Epoch    GPU_mem   box_loss   cls_loss   dfl_loss  Instances       Size\n"
     ]
    },
    {
     "name": "stderr",
     "output_type": "stream",
     "text": [
      "       1/50         0G      2.167      2.202      1.341         36        640: 1\n",
      "                 Class     Images  Instances      Box(P          R      mAP50  m"
     ]
    },
    {
     "name": "stdout",
     "output_type": "stream",
     "text": [
      "                   all        204       1701     0.0172      0.619      0.184     0.0783\n"
     ]
    },
    {
     "name": "stderr",
     "output_type": "stream",
     "text": [
      "\n"
     ]
    },
    {
     "name": "stdout",
     "output_type": "stream",
     "text": [
      "\n",
      "      Epoch    GPU_mem   box_loss   cls_loss   dfl_loss  Instances       Size\n"
     ]
    },
    {
     "name": "stderr",
     "output_type": "stream",
     "text": [
      "       2/50         0G      2.037      1.556      1.309          8        640: 1\n",
      "                 Class     Images  Instances      Box(P          R      mAP50  m"
     ]
    },
    {
     "name": "stdout",
     "output_type": "stream",
     "text": [
      "                   all        204       1701       0.63      0.259      0.355       0.16\n"
     ]
    },
    {
     "name": "stderr",
     "output_type": "stream",
     "text": [
      "\n"
     ]
    },
    {
     "name": "stdout",
     "output_type": "stream",
     "text": [
      "\n",
      "      Epoch    GPU_mem   box_loss   cls_loss   dfl_loss  Instances       Size\n"
     ]
    },
    {
     "name": "stderr",
     "output_type": "stream",
     "text": [
      "       3/50         0G       2.02      1.474      1.297          6        640: 1\n",
      "                 Class     Images  Instances      Box(P          R      mAP50  m"
     ]
    },
    {
     "name": "stdout",
     "output_type": "stream",
     "text": [
      "                   all        204       1701      0.221       0.42      0.187     0.0906\n"
     ]
    },
    {
     "name": "stderr",
     "output_type": "stream",
     "text": [
      "\n"
     ]
    },
    {
     "name": "stdout",
     "output_type": "stream",
     "text": [
      "\n",
      "      Epoch    GPU_mem   box_loss   cls_loss   dfl_loss  Instances       Size\n"
     ]
    },
    {
     "name": "stderr",
     "output_type": "stream",
     "text": [
      "       4/50         0G      2.008      1.433      1.296          2        640: 1\n",
      "                 Class     Images  Instances      Box(P          R      mAP50  m"
     ]
    },
    {
     "name": "stdout",
     "output_type": "stream",
     "text": [
      "                   all        204       1701      0.626      0.415      0.446      0.197\n"
     ]
    },
    {
     "name": "stderr",
     "output_type": "stream",
     "text": [
      "\n"
     ]
    },
    {
     "name": "stdout",
     "output_type": "stream",
     "text": [
      "\n",
      "      Epoch    GPU_mem   box_loss   cls_loss   dfl_loss  Instances       Size\n"
     ]
    },
    {
     "name": "stderr",
     "output_type": "stream",
     "text": [
      "       5/50         0G      2.032      1.408      1.269         33        640: 1\n",
      "                 Class     Images  Instances      Box(P          R      mAP50  m\n"
     ]
    },
    {
     "name": "stdout",
     "output_type": "stream",
     "text": [
      "                   all        204       1701      0.534      0.446      0.462      0.217\n",
      "\n",
      "      Epoch    GPU_mem   box_loss   cls_loss   dfl_loss  Instances       Size\n"
     ]
    },
    {
     "name": "stderr",
     "output_type": "stream",
     "text": [
      "       6/50         0G      1.984      1.334      1.286          7        640: 1\n",
      "                 Class     Images  Instances      Box(P          R      mAP50  m"
     ]
    },
    {
     "name": "stdout",
     "output_type": "stream",
     "text": [
      "                   all        204       1701      0.652      0.624      0.635       0.28\n"
     ]
    },
    {
     "name": "stderr",
     "output_type": "stream",
     "text": [
      "\n"
     ]
    },
    {
     "name": "stdout",
     "output_type": "stream",
     "text": [
      "\n",
      "      Epoch    GPU_mem   box_loss   cls_loss   dfl_loss  Instances       Size\n"
     ]
    },
    {
     "name": "stderr",
     "output_type": "stream",
     "text": [
      "       7/50         0G      2.012      1.289      1.279         11        640: 1\n",
      "                 Class     Images  Instances      Box(P          R      mAP50  m"
     ]
    },
    {
     "name": "stdout",
     "output_type": "stream",
     "text": [
      "                   all        204       1701      0.679      0.637      0.678      0.313\n"
     ]
    },
    {
     "name": "stderr",
     "output_type": "stream",
     "text": [
      "\n"
     ]
    },
    {
     "name": "stdout",
     "output_type": "stream",
     "text": [
      "\n",
      "      Epoch    GPU_mem   box_loss   cls_loss   dfl_loss  Instances       Size\n"
     ]
    },
    {
     "name": "stderr",
     "output_type": "stream",
     "text": [
      "       8/50         0G      1.991      1.256      1.261         13        640: 1\n",
      "                 Class     Images  Instances      Box(P          R      mAP50  m"
     ]
    },
    {
     "name": "stdout",
     "output_type": "stream",
     "text": [
      "                   all        204       1701      0.736      0.617      0.683      0.309\n"
     ]
    },
    {
     "name": "stderr",
     "output_type": "stream",
     "text": [
      "\n"
     ]
    },
    {
     "name": "stdout",
     "output_type": "stream",
     "text": [
      "\n",
      "      Epoch    GPU_mem   box_loss   cls_loss   dfl_loss  Instances       Size\n"
     ]
    },
    {
     "name": "stderr",
     "output_type": "stream",
     "text": [
      "       9/50         0G       1.99      1.276      1.271          5        640: 1\n",
      "                 Class     Images  Instances      Box(P          R      mAP50  m"
     ]
    },
    {
     "name": "stdout",
     "output_type": "stream",
     "text": [
      "                   all        204       1701      0.692      0.588      0.644      0.299\n"
     ]
    },
    {
     "name": "stderr",
     "output_type": "stream",
     "text": [
      "\n"
     ]
    },
    {
     "name": "stdout",
     "output_type": "stream",
     "text": [
      "\n",
      "      Epoch    GPU_mem   box_loss   cls_loss   dfl_loss  Instances       Size\n"
     ]
    },
    {
     "name": "stderr",
     "output_type": "stream",
     "text": [
      "      10/50         0G       1.99      1.276      1.283         15        640: 1\n",
      "                 Class     Images  Instances      Box(P          R      mAP50  m"
     ]
    },
    {
     "name": "stdout",
     "output_type": "stream",
     "text": [
      "                   all        204       1701      0.724      0.586      0.657      0.303\n"
     ]
    },
    {
     "name": "stderr",
     "output_type": "stream",
     "text": [
      "\n"
     ]
    },
    {
     "name": "stdout",
     "output_type": "stream",
     "text": [
      "\n",
      "      Epoch    GPU_mem   box_loss   cls_loss   dfl_loss  Instances       Size\n"
     ]
    },
    {
     "name": "stderr",
     "output_type": "stream",
     "text": [
      "      11/50         0G      1.965      1.291      1.273          2        640: 1\n",
      "                 Class     Images  Instances      Box(P          R      mAP50  m"
     ]
    },
    {
     "name": "stdout",
     "output_type": "stream",
     "text": [
      "                   all        204       1701      0.727      0.633      0.682      0.317\n"
     ]
    },
    {
     "name": "stderr",
     "output_type": "stream",
     "text": [
      "\n"
     ]
    },
    {
     "name": "stdout",
     "output_type": "stream",
     "text": [
      "\n",
      "      Epoch    GPU_mem   box_loss   cls_loss   dfl_loss  Instances       Size\n"
     ]
    },
    {
     "name": "stderr",
     "output_type": "stream",
     "text": [
      "      12/50         0G      1.989      1.233       1.26         13        640: 1\n",
      "                 Class     Images  Instances      Box(P          R      mAP50  m"
     ]
    },
    {
     "name": "stdout",
     "output_type": "stream",
     "text": [
      "                   all        204       1701       0.67      0.641      0.673      0.317\n"
     ]
    },
    {
     "name": "stderr",
     "output_type": "stream",
     "text": [
      "\n"
     ]
    },
    {
     "name": "stdout",
     "output_type": "stream",
     "text": [
      "\n",
      "      Epoch    GPU_mem   box_loss   cls_loss   dfl_loss  Instances       Size\n"
     ]
    },
    {
     "name": "stderr",
     "output_type": "stream",
     "text": [
      "      13/50         0G      1.973      1.191      1.271         21        640: 1\n",
      "                 Class     Images  Instances      Box(P          R      mAP50  m"
     ]
    },
    {
     "name": "stdout",
     "output_type": "stream",
     "text": [
      "                   all        204       1701       0.71      0.555      0.613       0.29\n"
     ]
    },
    {
     "name": "stderr",
     "output_type": "stream",
     "text": [
      "\n"
     ]
    },
    {
     "name": "stdout",
     "output_type": "stream",
     "text": [
      "\n",
      "      Epoch    GPU_mem   box_loss   cls_loss   dfl_loss  Instances       Size\n"
     ]
    },
    {
     "name": "stderr",
     "output_type": "stream",
     "text": [
      "      14/50         0G      1.938      1.193      1.245         17        640: 1\n",
      "                 Class     Images  Instances      Box(P          R      mAP50  m"
     ]
    },
    {
     "name": "stdout",
     "output_type": "stream",
     "text": [
      "                   all        204       1701      0.733      0.629      0.688      0.313\n"
     ]
    },
    {
     "name": "stderr",
     "output_type": "stream",
     "text": [
      "\n"
     ]
    },
    {
     "name": "stdout",
     "output_type": "stream",
     "text": [
      "\n",
      "      Epoch    GPU_mem   box_loss   cls_loss   dfl_loss  Instances       Size\n"
     ]
    },
    {
     "name": "stderr",
     "output_type": "stream",
     "text": [
      "      15/50         0G        1.9      1.157      1.246          7        640: 1\n",
      "                 Class     Images  Instances      Box(P          R      mAP50  m"
     ]
    },
    {
     "name": "stdout",
     "output_type": "stream",
     "text": [
      "                   all        204       1701      0.738      0.619       0.68      0.318\n"
     ]
    },
    {
     "name": "stderr",
     "output_type": "stream",
     "text": [
      "\n"
     ]
    },
    {
     "name": "stdout",
     "output_type": "stream",
     "text": [
      "\n",
      "      Epoch    GPU_mem   box_loss   cls_loss   dfl_loss  Instances       Size\n"
     ]
    },
    {
     "name": "stderr",
     "output_type": "stream",
     "text": [
      "      16/50         0G      1.939      1.199      1.256          3        640: 1\n",
      "                 Class     Images  Instances      Box(P          R      mAP50  m"
     ]
    },
    {
     "name": "stdout",
     "output_type": "stream",
     "text": [
      "                   all        204       1701      0.762      0.571      0.668      0.315\n"
     ]
    },
    {
     "name": "stderr",
     "output_type": "stream",
     "text": [
      "\n"
     ]
    },
    {
     "name": "stdout",
     "output_type": "stream",
     "text": [
      "\n",
      "      Epoch    GPU_mem   box_loss   cls_loss   dfl_loss  Instances       Size\n"
     ]
    },
    {
     "name": "stderr",
     "output_type": "stream",
     "text": [
      "      17/50         0G      1.952      1.143      1.239         22        640: 1\n",
      "                 Class     Images  Instances      Box(P          R      mAP50  m"
     ]
    },
    {
     "name": "stdout",
     "output_type": "stream",
     "text": [
      "                   all        204       1701      0.751      0.594      0.668      0.308\n"
     ]
    },
    {
     "name": "stderr",
     "output_type": "stream",
     "text": [
      "\n"
     ]
    },
    {
     "name": "stdout",
     "output_type": "stream",
     "text": [
      "\n",
      "      Epoch    GPU_mem   box_loss   cls_loss   dfl_loss  Instances       Size\n"
     ]
    },
    {
     "name": "stderr",
     "output_type": "stream",
     "text": [
      "      18/50         0G      1.923      1.169      1.234          7        640: 1\n",
      "                 Class     Images  Instances      Box(P          R      mAP50  m"
     ]
    },
    {
     "name": "stdout",
     "output_type": "stream",
     "text": [
      "                   all        204       1701      0.719      0.632       0.69      0.311\n"
     ]
    },
    {
     "name": "stderr",
     "output_type": "stream",
     "text": [
      "\n"
     ]
    },
    {
     "name": "stdout",
     "output_type": "stream",
     "text": [
      "\n",
      "      Epoch    GPU_mem   box_loss   cls_loss   dfl_loss  Instances       Size\n"
     ]
    },
    {
     "name": "stderr",
     "output_type": "stream",
     "text": [
      "      19/50         0G      1.944       1.15      1.248          5        640: 1\n",
      "                 Class     Images  Instances      Box(P          R      mAP50  m"
     ]
    },
    {
     "name": "stdout",
     "output_type": "stream",
     "text": [
      "                   all        204       1701      0.693      0.575       0.64      0.307\n"
     ]
    },
    {
     "name": "stderr",
     "output_type": "stream",
     "text": [
      "\n"
     ]
    },
    {
     "name": "stdout",
     "output_type": "stream",
     "text": [
      "\n",
      "      Epoch    GPU_mem   box_loss   cls_loss   dfl_loss  Instances       Size\n"
     ]
    },
    {
     "name": "stderr",
     "output_type": "stream",
     "text": [
      "      20/50         0G      1.931      1.179      1.245          3        640: 1\n",
      "                 Class     Images  Instances      Box(P          R      mAP50  m"
     ]
    },
    {
     "name": "stdout",
     "output_type": "stream",
     "text": [
      "                   all        204       1701      0.742      0.564      0.658      0.316\n"
     ]
    },
    {
     "name": "stderr",
     "output_type": "stream",
     "text": [
      "\n"
     ]
    },
    {
     "name": "stdout",
     "output_type": "stream",
     "text": [
      "\n",
      "      Epoch    GPU_mem   box_loss   cls_loss   dfl_loss  Instances       Size\n"
     ]
    },
    {
     "name": "stderr",
     "output_type": "stream",
     "text": [
      "      21/50         0G      1.869      1.122      1.218         36        640: 1\n",
      "                 Class     Images  Instances      Box(P          R      mAP50  m"
     ]
    },
    {
     "name": "stdout",
     "output_type": "stream",
     "text": [
      "                   all        204       1701      0.749       0.64      0.702      0.332\n"
     ]
    },
    {
     "name": "stderr",
     "output_type": "stream",
     "text": [
      "\n"
     ]
    },
    {
     "name": "stdout",
     "output_type": "stream",
     "text": [
      "\n",
      "      Epoch    GPU_mem   box_loss   cls_loss   dfl_loss  Instances       Size\n"
     ]
    },
    {
     "name": "stderr",
     "output_type": "stream",
     "text": [
      "      22/50         0G      1.869      1.102      1.232          8        640: 1\n",
      "                 Class     Images  Instances      Box(P          R      mAP50  m"
     ]
    },
    {
     "name": "stdout",
     "output_type": "stream",
     "text": [
      "                   all        204       1701      0.734      0.596      0.676      0.305\n"
     ]
    },
    {
     "name": "stderr",
     "output_type": "stream",
     "text": [
      "\n"
     ]
    },
    {
     "name": "stdout",
     "output_type": "stream",
     "text": [
      "\n",
      "      Epoch    GPU_mem   box_loss   cls_loss   dfl_loss  Instances       Size\n"
     ]
    },
    {
     "name": "stderr",
     "output_type": "stream",
     "text": [
      "      23/50         0G      1.933      1.141      1.252          4        640: 1\n",
      "                 Class     Images  Instances      Box(P          R      mAP50  m"
     ]
    },
    {
     "name": "stdout",
     "output_type": "stream",
     "text": [
      "                   all        204       1701      0.736      0.616      0.691      0.326\n"
     ]
    },
    {
     "name": "stderr",
     "output_type": "stream",
     "text": [
      "\n"
     ]
    },
    {
     "name": "stdout",
     "output_type": "stream",
     "text": [
      "\n",
      "      Epoch    GPU_mem   box_loss   cls_loss   dfl_loss  Instances       Size\n"
     ]
    },
    {
     "name": "stderr",
     "output_type": "stream",
     "text": [
      "      24/50         0G      1.905      1.152      1.243         14        640: 1\n",
      "                 Class     Images  Instances      Box(P          R      mAP50  m"
     ]
    },
    {
     "name": "stdout",
     "output_type": "stream",
     "text": [
      "                   all        204       1701      0.753      0.633      0.725      0.338\n"
     ]
    },
    {
     "name": "stderr",
     "output_type": "stream",
     "text": [
      "\n"
     ]
    },
    {
     "name": "stdout",
     "output_type": "stream",
     "text": [
      "\n",
      "      Epoch    GPU_mem   box_loss   cls_loss   dfl_loss  Instances       Size\n"
     ]
    },
    {
     "name": "stderr",
     "output_type": "stream",
     "text": [
      "      25/50         0G      1.911      1.134      1.238          4        640: 1\n",
      "                 Class     Images  Instances      Box(P          R      mAP50  m"
     ]
    },
    {
     "name": "stdout",
     "output_type": "stream",
     "text": [
      "                   all        204       1701       0.74      0.621      0.702      0.327\n"
     ]
    },
    {
     "name": "stderr",
     "output_type": "stream",
     "text": [
      "\n"
     ]
    },
    {
     "name": "stdout",
     "output_type": "stream",
     "text": [
      "\n",
      "      Epoch    GPU_mem   box_loss   cls_loss   dfl_loss  Instances       Size\n"
     ]
    },
    {
     "name": "stderr",
     "output_type": "stream",
     "text": [
      "      26/50         0G      1.882      1.075      1.233         12        640: 1\n",
      "                 Class     Images  Instances      Box(P          R      mAP50  m"
     ]
    },
    {
     "name": "stdout",
     "output_type": "stream",
     "text": [
      "                   all        204       1701      0.766      0.625      0.699      0.332\n"
     ]
    },
    {
     "name": "stderr",
     "output_type": "stream",
     "text": [
      "\n"
     ]
    },
    {
     "name": "stdout",
     "output_type": "stream",
     "text": [
      "\n",
      "      Epoch    GPU_mem   box_loss   cls_loss   dfl_loss  Instances       Size\n"
     ]
    },
    {
     "name": "stderr",
     "output_type": "stream",
     "text": [
      "      27/50         0G       1.85      1.075      1.204          9        640: 1\n",
      "                 Class     Images  Instances      Box(P          R      mAP50  m"
     ]
    },
    {
     "name": "stdout",
     "output_type": "stream",
     "text": [
      "                   all        204       1701      0.735      0.623      0.684      0.323\n"
     ]
    },
    {
     "name": "stderr",
     "output_type": "stream",
     "text": [
      "\n"
     ]
    },
    {
     "name": "stdout",
     "output_type": "stream",
     "text": [
      "\n",
      "      Epoch    GPU_mem   box_loss   cls_loss   dfl_loss  Instances       Size\n"
     ]
    },
    {
     "name": "stderr",
     "output_type": "stream",
     "text": [
      "      28/50         0G      1.863       1.08      1.238          4        640: 1\n",
      "                 Class     Images  Instances      Box(P          R      mAP50  m"
     ]
    },
    {
     "name": "stdout",
     "output_type": "stream",
     "text": [
      "                   all        204       1701      0.771      0.616      0.687      0.329\n"
     ]
    },
    {
     "name": "stderr",
     "output_type": "stream",
     "text": [
      "\n"
     ]
    },
    {
     "name": "stdout",
     "output_type": "stream",
     "text": [
      "\n",
      "      Epoch    GPU_mem   box_loss   cls_loss   dfl_loss  Instances       Size\n"
     ]
    },
    {
     "name": "stderr",
     "output_type": "stream",
     "text": [
      "      29/50         0G       1.85      1.078      1.212          5        640: 1\n",
      "                 Class     Images  Instances      Box(P          R      mAP50  m"
     ]
    },
    {
     "name": "stdout",
     "output_type": "stream",
     "text": [
      "                   all        204       1701      0.769      0.608      0.681      0.324\n"
     ]
    },
    {
     "name": "stderr",
     "output_type": "stream",
     "text": [
      "\n"
     ]
    },
    {
     "name": "stdout",
     "output_type": "stream",
     "text": [
      "\n",
      "      Epoch    GPU_mem   box_loss   cls_loss   dfl_loss  Instances       Size\n"
     ]
    },
    {
     "name": "stderr",
     "output_type": "stream",
     "text": [
      "      30/50         0G      1.847      1.073      1.217         18        640: 1\n",
      "                 Class     Images  Instances      Box(P          R      mAP50  m"
     ]
    },
    {
     "name": "stdout",
     "output_type": "stream",
     "text": [
      "                   all        204       1701       0.79      0.638      0.712      0.333\n"
     ]
    },
    {
     "name": "stderr",
     "output_type": "stream",
     "text": [
      "\n"
     ]
    },
    {
     "name": "stdout",
     "output_type": "stream",
     "text": [
      "\n",
      "      Epoch    GPU_mem   box_loss   cls_loss   dfl_loss  Instances       Size\n"
     ]
    },
    {
     "name": "stderr",
     "output_type": "stream",
     "text": [
      "      31/50         0G      1.847      1.063      1.216          8        640: 1\n",
      "                 Class     Images  Instances      Box(P          R      mAP50  m"
     ]
    },
    {
     "name": "stdout",
     "output_type": "stream",
     "text": [
      "                   all        204       1701      0.767      0.614      0.693      0.334\n"
     ]
    },
    {
     "name": "stderr",
     "output_type": "stream",
     "text": [
      "\n"
     ]
    },
    {
     "name": "stdout",
     "output_type": "stream",
     "text": [
      "\n",
      "      Epoch    GPU_mem   box_loss   cls_loss   dfl_loss  Instances       Size\n"
     ]
    },
    {
     "name": "stderr",
     "output_type": "stream",
     "text": [
      "      32/50         0G      1.884      1.092      1.219         14        640: 1\n",
      "                 Class     Images  Instances      Box(P          R      mAP50  m"
     ]
    },
    {
     "name": "stdout",
     "output_type": "stream",
     "text": [
      "                   all        204       1701      0.706      0.573      0.644      0.306\n"
     ]
    },
    {
     "name": "stderr",
     "output_type": "stream",
     "text": [
      "\n"
     ]
    },
    {
     "name": "stdout",
     "output_type": "stream",
     "text": [
      "\n",
      "      Epoch    GPU_mem   box_loss   cls_loss   dfl_loss  Instances       Size\n"
     ]
    },
    {
     "name": "stderr",
     "output_type": "stream",
     "text": [
      "      33/50         0G      1.827      1.033      1.217         10        640: 1\n",
      "                 Class     Images  Instances      Box(P          R      mAP50  m"
     ]
    },
    {
     "name": "stdout",
     "output_type": "stream",
     "text": [
      "                   all        204       1701      0.768      0.621      0.688      0.329\n"
     ]
    },
    {
     "name": "stderr",
     "output_type": "stream",
     "text": [
      "\n"
     ]
    },
    {
     "name": "stdout",
     "output_type": "stream",
     "text": [
      "\n",
      "      Epoch    GPU_mem   box_loss   cls_loss   dfl_loss  Instances       Size\n"
     ]
    },
    {
     "name": "stderr",
     "output_type": "stream",
     "text": [
      "      34/50         0G      1.866      1.067      1.218          6        640: 1\n",
      "                 Class     Images  Instances      Box(P          R      mAP50  m"
     ]
    },
    {
     "name": "stdout",
     "output_type": "stream",
     "text": [
      "                   all        204       1701      0.735      0.632      0.683      0.328\n"
     ]
    },
    {
     "name": "stderr",
     "output_type": "stream",
     "text": [
      "\n"
     ]
    },
    {
     "name": "stdout",
     "output_type": "stream",
     "text": [
      "\n",
      "      Epoch    GPU_mem   box_loss   cls_loss   dfl_loss  Instances       Size\n"
     ]
    },
    {
     "name": "stderr",
     "output_type": "stream",
     "text": [
      "      35/50         0G      1.802       1.02      1.202          7        640: 1\n",
      "                 Class     Images  Instances      Box(P          R      mAP50  m"
     ]
    },
    {
     "name": "stdout",
     "output_type": "stream",
     "text": [
      "                   all        204       1701      0.769       0.66      0.721      0.339\n"
     ]
    },
    {
     "name": "stderr",
     "output_type": "stream",
     "text": [
      "\n"
     ]
    },
    {
     "name": "stdout",
     "output_type": "stream",
     "text": [
      "\n",
      "      Epoch    GPU_mem   box_loss   cls_loss   dfl_loss  Instances       Size\n"
     ]
    },
    {
     "name": "stderr",
     "output_type": "stream",
     "text": [
      "      36/50         0G      1.818      1.131      1.217          1        640: 1\n",
      "                 Class     Images  Instances      Box(P          R      mAP50  m"
     ]
    },
    {
     "name": "stdout",
     "output_type": "stream",
     "text": [
      "                   all        204       1701      0.778      0.626      0.697      0.321\n"
     ]
    },
    {
     "name": "stderr",
     "output_type": "stream",
     "text": [
      "\n"
     ]
    },
    {
     "name": "stdout",
     "output_type": "stream",
     "text": [
      "\n",
      "      Epoch    GPU_mem   box_loss   cls_loss   dfl_loss  Instances       Size\n"
     ]
    },
    {
     "name": "stderr",
     "output_type": "stream",
     "text": [
      "      37/50         0G      1.832      1.013      1.196         25        640: 1\n",
      "                 Class     Images  Instances      Box(P          R      mAP50  m"
     ]
    },
    {
     "name": "stdout",
     "output_type": "stream",
     "text": [
      "                   all        204       1701      0.772      0.581      0.664      0.321\n"
     ]
    },
    {
     "name": "stderr",
     "output_type": "stream",
     "text": [
      "\n"
     ]
    },
    {
     "name": "stdout",
     "output_type": "stream",
     "text": [
      "\n",
      "      Epoch    GPU_mem   box_loss   cls_loss   dfl_loss  Instances       Size\n"
     ]
    },
    {
     "name": "stderr",
     "output_type": "stream",
     "text": [
      "      38/50         0G      1.786     0.9925      1.211          7        640: 1\n",
      "                 Class     Images  Instances      Box(P          R      mAP50  m"
     ]
    },
    {
     "name": "stdout",
     "output_type": "stream",
     "text": [
      "                   all        204       1701      0.809      0.626      0.707      0.331\n"
     ]
    },
    {
     "name": "stderr",
     "output_type": "stream",
     "text": [
      "\n"
     ]
    },
    {
     "name": "stdout",
     "output_type": "stream",
     "text": [
      "\n",
      "      Epoch    GPU_mem   box_loss   cls_loss   dfl_loss  Instances       Size\n"
     ]
    },
    {
     "name": "stderr",
     "output_type": "stream",
     "text": [
      "      39/50         0G      1.777     0.9916      1.204          4        640: 1\n",
      "                 Class     Images  Instances      Box(P          R      mAP50  m"
     ]
    },
    {
     "name": "stdout",
     "output_type": "stream",
     "text": [
      "                   all        204       1701      0.784      0.608      0.687      0.336\n"
     ]
    },
    {
     "name": "stderr",
     "output_type": "stream",
     "text": [
      "\n"
     ]
    },
    {
     "name": "stdout",
     "output_type": "stream",
     "text": [
      "\n",
      "      Epoch    GPU_mem   box_loss   cls_loss   dfl_loss  Instances       Size\n"
     ]
    },
    {
     "name": "stderr",
     "output_type": "stream",
     "text": [
      "      40/50         0G      1.768     0.9672      1.184         13        640: 1\n",
      "                 Class     Images  Instances      Box(P          R      mAP50  m"
     ]
    },
    {
     "name": "stdout",
     "output_type": "stream",
     "text": [
      "                   all        204       1701       0.78      0.628      0.714      0.341\n"
     ]
    },
    {
     "name": "stderr",
     "output_type": "stream",
     "text": [
      "\n"
     ]
    },
    {
     "name": "stdout",
     "output_type": "stream",
     "text": [
      "Closing dataloader mosaic\n",
      "\n",
      "      Epoch    GPU_mem   box_loss   cls_loss   dfl_loss  Instances       Size\n"
     ]
    },
    {
     "name": "stderr",
     "output_type": "stream",
     "text": [
      "      41/50         0G      1.865      1.024      1.234          8        640: 1\n",
      "                 Class     Images  Instances      Box(P          R      mAP50  m"
     ]
    },
    {
     "name": "stdout",
     "output_type": "stream",
     "text": [
      "                   all        204       1701      0.779      0.616      0.688      0.335\n"
     ]
    },
    {
     "name": "stderr",
     "output_type": "stream",
     "text": [
      "\n"
     ]
    },
    {
     "name": "stdout",
     "output_type": "stream",
     "text": [
      "\n",
      "      Epoch    GPU_mem   box_loss   cls_loss   dfl_loss  Instances       Size\n"
     ]
    },
    {
     "name": "stderr",
     "output_type": "stream",
     "text": [
      "      42/50         0G      1.789     0.9817      1.226          7        640: 1\n",
      "                 Class     Images  Instances      Box(P          R      mAP50  m"
     ]
    },
    {
     "name": "stdout",
     "output_type": "stream",
     "text": [
      "                   all        204       1701      0.772      0.653       0.73      0.343\n"
     ]
    },
    {
     "name": "stderr",
     "output_type": "stream",
     "text": [
      "\n"
     ]
    },
    {
     "name": "stdout",
     "output_type": "stream",
     "text": [
      "\n",
      "      Epoch    GPU_mem   box_loss   cls_loss   dfl_loss  Instances       Size\n"
     ]
    },
    {
     "name": "stderr",
     "output_type": "stream",
     "text": [
      "      43/50         0G      1.802     0.9868      1.208         10        640: 1\n",
      "                 Class     Images  Instances      Box(P          R      mAP50  m"
     ]
    },
    {
     "name": "stdout",
     "output_type": "stream",
     "text": [
      "                   all        204       1701      0.785      0.645      0.729      0.349\n"
     ]
    },
    {
     "name": "stderr",
     "output_type": "stream",
     "text": [
      "\n"
     ]
    },
    {
     "name": "stdout",
     "output_type": "stream",
     "text": [
      "\n",
      "      Epoch    GPU_mem   box_loss   cls_loss   dfl_loss  Instances       Size\n"
     ]
    },
    {
     "name": "stderr",
     "output_type": "stream",
     "text": [
      "      44/50         0G      1.803     0.9612      1.223          5        640: 1\n",
      "                 Class     Images  Instances      Box(P          R      mAP50  m"
     ]
    },
    {
     "name": "stdout",
     "output_type": "stream",
     "text": [
      "                   all        204       1701      0.804      0.644      0.716      0.343\n"
     ]
    },
    {
     "name": "stderr",
     "output_type": "stream",
     "text": [
      "\n"
     ]
    },
    {
     "name": "stdout",
     "output_type": "stream",
     "text": [
      "\n",
      "      Epoch    GPU_mem   box_loss   cls_loss   dfl_loss  Instances       Size\n"
     ]
    },
    {
     "name": "stderr",
     "output_type": "stream",
     "text": [
      "      45/50         0G      1.775     0.9845      1.241          1        640: 1\n",
      "                 Class     Images  Instances      Box(P          R      mAP50  m"
     ]
    },
    {
     "name": "stdout",
     "output_type": "stream",
     "text": [
      "                   all        204       1701      0.797      0.627      0.703      0.338\n"
     ]
    },
    {
     "name": "stderr",
     "output_type": "stream",
     "text": [
      "\n"
     ]
    },
    {
     "name": "stdout",
     "output_type": "stream",
     "text": [
      "\n",
      "      Epoch    GPU_mem   box_loss   cls_loss   dfl_loss  Instances       Size\n"
     ]
    },
    {
     "name": "stderr",
     "output_type": "stream",
     "text": [
      "      46/50         0G      1.772      0.955      1.204          4        640: 1\n",
      "                 Class     Images  Instances      Box(P          R      mAP50  m"
     ]
    },
    {
     "name": "stdout",
     "output_type": "stream",
     "text": [
      "                   all        204       1701      0.788       0.65      0.717      0.342\n"
     ]
    },
    {
     "name": "stderr",
     "output_type": "stream",
     "text": [
      "\n"
     ]
    },
    {
     "name": "stdout",
     "output_type": "stream",
     "text": [
      "\n",
      "      Epoch    GPU_mem   box_loss   cls_loss   dfl_loss  Instances       Size\n"
     ]
    },
    {
     "name": "stderr",
     "output_type": "stream",
     "text": [
      "      47/50         0G      1.783     0.9715      1.206         30        640: 1\n",
      "                 Class     Images  Instances      Box(P          R      mAP50  m"
     ]
    },
    {
     "name": "stdout",
     "output_type": "stream",
     "text": [
      "                   all        204       1701      0.802       0.63      0.715      0.342\n"
     ]
    },
    {
     "name": "stderr",
     "output_type": "stream",
     "text": [
      "\n"
     ]
    },
    {
     "name": "stdout",
     "output_type": "stream",
     "text": [
      "\n",
      "      Epoch    GPU_mem   box_loss   cls_loss   dfl_loss  Instances       Size\n"
     ]
    },
    {
     "name": "stderr",
     "output_type": "stream",
     "text": [
      "      48/50         0G      1.757     0.9344      1.206          2        640: 1\n",
      "                 Class     Images  Instances      Box(P          R      mAP50  m"
     ]
    },
    {
     "name": "stdout",
     "output_type": "stream",
     "text": [
      "                   all        204       1701      0.804      0.637      0.725      0.345\n"
     ]
    },
    {
     "name": "stderr",
     "output_type": "stream",
     "text": [
      "\n"
     ]
    },
    {
     "name": "stdout",
     "output_type": "stream",
     "text": [
      "\n",
      "      Epoch    GPU_mem   box_loss   cls_loss   dfl_loss  Instances       Size\n"
     ]
    },
    {
     "name": "stderr",
     "output_type": "stream",
     "text": [
      "      49/50         0G      1.735     0.9277      1.199          2        640: 1\n",
      "                 Class     Images  Instances      Box(P          R      mAP50  m"
     ]
    },
    {
     "name": "stdout",
     "output_type": "stream",
     "text": [
      "                   all        204       1701      0.806      0.626      0.713      0.343\n"
     ]
    },
    {
     "name": "stderr",
     "output_type": "stream",
     "text": [
      "\n"
     ]
    },
    {
     "name": "stdout",
     "output_type": "stream",
     "text": [
      "\n",
      "      Epoch    GPU_mem   box_loss   cls_loss   dfl_loss  Instances       Size\n"
     ]
    },
    {
     "name": "stderr",
     "output_type": "stream",
     "text": [
      "      50/50         0G      1.768     0.9386      1.218          4        640: 1\n",
      "                 Class     Images  Instances      Box(P          R      mAP50  m"
     ]
    },
    {
     "name": "stdout",
     "output_type": "stream",
     "text": [
      "                   all        204       1701      0.811      0.634       0.72      0.343\n"
     ]
    },
    {
     "name": "stderr",
     "output_type": "stream",
     "text": [
      "\n"
     ]
    },
    {
     "name": "stdout",
     "output_type": "stream",
     "text": [
      "\n",
      "50 epochs completed in 15.467 hours.\n",
      "Optimizer stripped from runs/detect/train/weights/last.pt, 6.2MB\n",
      "Optimizer stripped from runs/detect/train/weights/best.pt, 6.2MB\n",
      "\n",
      "Validating runs/detect/train/weights/best.pt...\n",
      "Ultralytics YOLOv8.1.47 🚀 Python-3.11.7 torch-2.2.2 CPU (Intel Core(TM) i5-4260U 1.40GHz)\n",
      "Model summary (fused): 168 layers, 3005843 parameters, 0 gradients, 8.1 GFLOPs\n"
     ]
    },
    {
     "name": "stderr",
     "output_type": "stream",
     "text": [
      "                 Class     Images  Instances      Box(P          R      mAP50  m\n"
     ]
    },
    {
     "name": "stdout",
     "output_type": "stream",
     "text": [
      "                   all        204       1701      0.787      0.644      0.729      0.349\n",
      "Speed: 5.5ms preprocess, 200.9ms inference, 0.0ms loss, 1.3ms postprocess per image\n",
      "Results saved to \u001b[1mruns/detect/train\u001b[0m\n"
     ]
    },
    {
     "data": {
      "text/plain": [
       "ultralytics.utils.metrics.DetMetrics object with attributes:\n",
       "\n",
       "ap_class_index: array([0])\n",
       "box: ultralytics.utils.metrics.Metric object\n",
       "confusion_matrix: <ultralytics.utils.metrics.ConfusionMatrix object at 0x15be84850>\n",
       "curves: ['Precision-Recall(B)', 'F1-Confidence(B)', 'Precision-Confidence(B)', 'Recall-Confidence(B)']\n",
       "curves_results: [[array([          0,    0.001001,    0.002002,    0.003003,    0.004004,    0.005005,    0.006006,    0.007007,    0.008008,    0.009009,     0.01001,    0.011011,    0.012012,    0.013013,    0.014014,    0.015015,    0.016016,    0.017017,    0.018018,    0.019019,     0.02002,    0.021021,    0.022022,    0.023023,\n",
       "          0.024024,    0.025025,    0.026026,    0.027027,    0.028028,    0.029029,     0.03003,    0.031031,    0.032032,    0.033033,    0.034034,    0.035035,    0.036036,    0.037037,    0.038038,    0.039039,     0.04004,    0.041041,    0.042042,    0.043043,    0.044044,    0.045045,    0.046046,    0.047047,\n",
       "          0.048048,    0.049049,     0.05005,    0.051051,    0.052052,    0.053053,    0.054054,    0.055055,    0.056056,    0.057057,    0.058058,    0.059059,     0.06006,    0.061061,    0.062062,    0.063063,    0.064064,    0.065065,    0.066066,    0.067067,    0.068068,    0.069069,     0.07007,    0.071071,\n",
       "          0.072072,    0.073073,    0.074074,    0.075075,    0.076076,    0.077077,    0.078078,    0.079079,     0.08008,    0.081081,    0.082082,    0.083083,    0.084084,    0.085085,    0.086086,    0.087087,    0.088088,    0.089089,     0.09009,    0.091091,    0.092092,    0.093093,    0.094094,    0.095095,\n",
       "          0.096096,    0.097097,    0.098098,    0.099099,      0.1001,      0.1011,      0.1021,      0.1031,      0.1041,     0.10511,     0.10611,     0.10711,     0.10811,     0.10911,     0.11011,     0.11111,     0.11211,     0.11311,     0.11411,     0.11512,     0.11612,     0.11712,     0.11812,     0.11912,\n",
       "           0.12012,     0.12112,     0.12212,     0.12312,     0.12412,     0.12513,     0.12613,     0.12713,     0.12813,     0.12913,     0.13013,     0.13113,     0.13213,     0.13313,     0.13413,     0.13514,     0.13614,     0.13714,     0.13814,     0.13914,     0.14014,     0.14114,     0.14214,     0.14314,\n",
       "           0.14414,     0.14515,     0.14615,     0.14715,     0.14815,     0.14915,     0.15015,     0.15115,     0.15215,     0.15315,     0.15415,     0.15516,     0.15616,     0.15716,     0.15816,     0.15916,     0.16016,     0.16116,     0.16216,     0.16316,     0.16416,     0.16517,     0.16617,     0.16717,\n",
       "           0.16817,     0.16917,     0.17017,     0.17117,     0.17217,     0.17317,     0.17417,     0.17518,     0.17618,     0.17718,     0.17818,     0.17918,     0.18018,     0.18118,     0.18218,     0.18318,     0.18418,     0.18519,     0.18619,     0.18719,     0.18819,     0.18919,     0.19019,     0.19119,\n",
       "           0.19219,     0.19319,     0.19419,      0.1952,      0.1962,      0.1972,      0.1982,      0.1992,      0.2002,      0.2012,      0.2022,      0.2032,      0.2042,     0.20521,     0.20621,     0.20721,     0.20821,     0.20921,     0.21021,     0.21121,     0.21221,     0.21321,     0.21421,     0.21522,\n",
       "           0.21622,     0.21722,     0.21822,     0.21922,     0.22022,     0.22122,     0.22222,     0.22322,     0.22422,     0.22523,     0.22623,     0.22723,     0.22823,     0.22923,     0.23023,     0.23123,     0.23223,     0.23323,     0.23423,     0.23524,     0.23624,     0.23724,     0.23824,     0.23924,\n",
       "           0.24024,     0.24124,     0.24224,     0.24324,     0.24424,     0.24525,     0.24625,     0.24725,     0.24825,     0.24925,     0.25025,     0.25125,     0.25225,     0.25325,     0.25425,     0.25526,     0.25626,     0.25726,     0.25826,     0.25926,     0.26026,     0.26126,     0.26226,     0.26326,\n",
       "           0.26426,     0.26527,     0.26627,     0.26727,     0.26827,     0.26927,     0.27027,     0.27127,     0.27227,     0.27327,     0.27427,     0.27528,     0.27628,     0.27728,     0.27828,     0.27928,     0.28028,     0.28128,     0.28228,     0.28328,     0.28428,     0.28529,     0.28629,     0.28729,\n",
       "           0.28829,     0.28929,     0.29029,     0.29129,     0.29229,     0.29329,     0.29429,      0.2953,      0.2963,      0.2973,      0.2983,      0.2993,      0.3003,      0.3013,      0.3023,      0.3033,      0.3043,     0.30531,     0.30631,     0.30731,     0.30831,     0.30931,     0.31031,     0.31131,\n",
       "           0.31231,     0.31331,     0.31431,     0.31532,     0.31632,     0.31732,     0.31832,     0.31932,     0.32032,     0.32132,     0.32232,     0.32332,     0.32432,     0.32533,     0.32633,     0.32733,     0.32833,     0.32933,     0.33033,     0.33133,     0.33233,     0.33333,     0.33433,     0.33534,\n",
       "           0.33634,     0.33734,     0.33834,     0.33934,     0.34034,     0.34134,     0.34234,     0.34334,     0.34434,     0.34535,     0.34635,     0.34735,     0.34835,     0.34935,     0.35035,     0.35135,     0.35235,     0.35335,     0.35435,     0.35536,     0.35636,     0.35736,     0.35836,     0.35936,\n",
       "           0.36036,     0.36136,     0.36236,     0.36336,     0.36436,     0.36537,     0.36637,     0.36737,     0.36837,     0.36937,     0.37037,     0.37137,     0.37237,     0.37337,     0.37437,     0.37538,     0.37638,     0.37738,     0.37838,     0.37938,     0.38038,     0.38138,     0.38238,     0.38338,\n",
       "           0.38438,     0.38539,     0.38639,     0.38739,     0.38839,     0.38939,     0.39039,     0.39139,     0.39239,     0.39339,     0.39439,      0.3954,      0.3964,      0.3974,      0.3984,      0.3994,      0.4004,      0.4014,      0.4024,      0.4034,      0.4044,     0.40541,     0.40641,     0.40741,\n",
       "           0.40841,     0.40941,     0.41041,     0.41141,     0.41241,     0.41341,     0.41441,     0.41542,     0.41642,     0.41742,     0.41842,     0.41942,     0.42042,     0.42142,     0.42242,     0.42342,     0.42442,     0.42543,     0.42643,     0.42743,     0.42843,     0.42943,     0.43043,     0.43143,\n",
       "           0.43243,     0.43343,     0.43443,     0.43544,     0.43644,     0.43744,     0.43844,     0.43944,     0.44044,     0.44144,     0.44244,     0.44344,     0.44444,     0.44545,     0.44645,     0.44745,     0.44845,     0.44945,     0.45045,     0.45145,     0.45245,     0.45345,     0.45445,     0.45546,\n",
       "           0.45646,     0.45746,     0.45846,     0.45946,     0.46046,     0.46146,     0.46246,     0.46346,     0.46446,     0.46547,     0.46647,     0.46747,     0.46847,     0.46947,     0.47047,     0.47147,     0.47247,     0.47347,     0.47447,     0.47548,     0.47648,     0.47748,     0.47848,     0.47948,\n",
       "           0.48048,     0.48148,     0.48248,     0.48348,     0.48448,     0.48549,     0.48649,     0.48749,     0.48849,     0.48949,     0.49049,     0.49149,     0.49249,     0.49349,     0.49449,      0.4955,      0.4965,      0.4975,      0.4985,      0.4995,      0.5005,      0.5015,      0.5025,      0.5035,\n",
       "            0.5045,     0.50551,     0.50651,     0.50751,     0.50851,     0.50951,     0.51051,     0.51151,     0.51251,     0.51351,     0.51451,     0.51552,     0.51652,     0.51752,     0.51852,     0.51952,     0.52052,     0.52152,     0.52252,     0.52352,     0.52452,     0.52553,     0.52653,     0.52753,\n",
       "           0.52853,     0.52953,     0.53053,     0.53153,     0.53253,     0.53353,     0.53453,     0.53554,     0.53654,     0.53754,     0.53854,     0.53954,     0.54054,     0.54154,     0.54254,     0.54354,     0.54454,     0.54555,     0.54655,     0.54755,     0.54855,     0.54955,     0.55055,     0.55155,\n",
       "           0.55255,     0.55355,     0.55455,     0.55556,     0.55656,     0.55756,     0.55856,     0.55956,     0.56056,     0.56156,     0.56256,     0.56356,     0.56456,     0.56557,     0.56657,     0.56757,     0.56857,     0.56957,     0.57057,     0.57157,     0.57257,     0.57357,     0.57457,     0.57558,\n",
       "           0.57658,     0.57758,     0.57858,     0.57958,     0.58058,     0.58158,     0.58258,     0.58358,     0.58458,     0.58559,     0.58659,     0.58759,     0.58859,     0.58959,     0.59059,     0.59159,     0.59259,     0.59359,     0.59459,      0.5956,      0.5966,      0.5976,      0.5986,      0.5996,\n",
       "            0.6006,      0.6016,      0.6026,      0.6036,      0.6046,     0.60561,     0.60661,     0.60761,     0.60861,     0.60961,     0.61061,     0.61161,     0.61261,     0.61361,     0.61461,     0.61562,     0.61662,     0.61762,     0.61862,     0.61962,     0.62062,     0.62162,     0.62262,     0.62362,\n",
       "           0.62462,     0.62563,     0.62663,     0.62763,     0.62863,     0.62963,     0.63063,     0.63163,     0.63263,     0.63363,     0.63463,     0.63564,     0.63664,     0.63764,     0.63864,     0.63964,     0.64064,     0.64164,     0.64264,     0.64364,     0.64464,     0.64565,     0.64665,     0.64765,\n",
       "           0.64865,     0.64965,     0.65065,     0.65165,     0.65265,     0.65365,     0.65465,     0.65566,     0.65666,     0.65766,     0.65866,     0.65966,     0.66066,     0.66166,     0.66266,     0.66366,     0.66466,     0.66567,     0.66667,     0.66767,     0.66867,     0.66967,     0.67067,     0.67167,\n",
       "           0.67267,     0.67367,     0.67467,     0.67568,     0.67668,     0.67768,     0.67868,     0.67968,     0.68068,     0.68168,     0.68268,     0.68368,     0.68468,     0.68569,     0.68669,     0.68769,     0.68869,     0.68969,     0.69069,     0.69169,     0.69269,     0.69369,     0.69469,      0.6957,\n",
       "            0.6967,      0.6977,      0.6987,      0.6997,      0.7007,      0.7017,      0.7027,      0.7037,      0.7047,     0.70571,     0.70671,     0.70771,     0.70871,     0.70971,     0.71071,     0.71171,     0.71271,     0.71371,     0.71471,     0.71572,     0.71672,     0.71772,     0.71872,     0.71972,\n",
       "           0.72072,     0.72172,     0.72272,     0.72372,     0.72472,     0.72573,     0.72673,     0.72773,     0.72873,     0.72973,     0.73073,     0.73173,     0.73273,     0.73373,     0.73473,     0.73574,     0.73674,     0.73774,     0.73874,     0.73974,     0.74074,     0.74174,     0.74274,     0.74374,\n",
       "           0.74474,     0.74575,     0.74675,     0.74775,     0.74875,     0.74975,     0.75075,     0.75175,     0.75275,     0.75375,     0.75475,     0.75576,     0.75676,     0.75776,     0.75876,     0.75976,     0.76076,     0.76176,     0.76276,     0.76376,     0.76476,     0.76577,     0.76677,     0.76777,\n",
       "           0.76877,     0.76977,     0.77077,     0.77177,     0.77277,     0.77377,     0.77477,     0.77578,     0.77678,     0.77778,     0.77878,     0.77978,     0.78078,     0.78178,     0.78278,     0.78378,     0.78478,     0.78579,     0.78679,     0.78779,     0.78879,     0.78979,     0.79079,     0.79179,\n",
       "           0.79279,     0.79379,     0.79479,      0.7958,      0.7968,      0.7978,      0.7988,      0.7998,      0.8008,      0.8018,      0.8028,      0.8038,      0.8048,     0.80581,     0.80681,     0.80781,     0.80881,     0.80981,     0.81081,     0.81181,     0.81281,     0.81381,     0.81481,     0.81582,\n",
       "           0.81682,     0.81782,     0.81882,     0.81982,     0.82082,     0.82182,     0.82282,     0.82382,     0.82482,     0.82583,     0.82683,     0.82783,     0.82883,     0.82983,     0.83083,     0.83183,     0.83283,     0.83383,     0.83483,     0.83584,     0.83684,     0.83784,     0.83884,     0.83984,\n",
       "           0.84084,     0.84184,     0.84284,     0.84384,     0.84484,     0.84585,     0.84685,     0.84785,     0.84885,     0.84985,     0.85085,     0.85185,     0.85285,     0.85385,     0.85485,     0.85586,     0.85686,     0.85786,     0.85886,     0.85986,     0.86086,     0.86186,     0.86286,     0.86386,\n",
       "           0.86486,     0.86587,     0.86687,     0.86787,     0.86887,     0.86987,     0.87087,     0.87187,     0.87287,     0.87387,     0.87487,     0.87588,     0.87688,     0.87788,     0.87888,     0.87988,     0.88088,     0.88188,     0.88288,     0.88388,     0.88488,     0.88589,     0.88689,     0.88789,\n",
       "           0.88889,     0.88989,     0.89089,     0.89189,     0.89289,     0.89389,     0.89489,      0.8959,      0.8969,      0.8979,      0.8989,      0.8999,      0.9009,      0.9019,      0.9029,      0.9039,      0.9049,     0.90591,     0.90691,     0.90791,     0.90891,     0.90991,     0.91091,     0.91191,\n",
       "           0.91291,     0.91391,     0.91491,     0.91592,     0.91692,     0.91792,     0.91892,     0.91992,     0.92092,     0.92192,     0.92292,     0.92392,     0.92492,     0.92593,     0.92693,     0.92793,     0.92893,     0.92993,     0.93093,     0.93193,     0.93293,     0.93393,     0.93493,     0.93594,\n",
       "           0.93694,     0.93794,     0.93894,     0.93994,     0.94094,     0.94194,     0.94294,     0.94394,     0.94494,     0.94595,     0.94695,     0.94795,     0.94895,     0.94995,     0.95095,     0.95195,     0.95295,     0.95395,     0.95495,     0.95596,     0.95696,     0.95796,     0.95896,     0.95996,\n",
       "           0.96096,     0.96196,     0.96296,     0.96396,     0.96496,     0.96597,     0.96697,     0.96797,     0.96897,     0.96997,     0.97097,     0.97197,     0.97297,     0.97397,     0.97497,     0.97598,     0.97698,     0.97798,     0.97898,     0.97998,     0.98098,     0.98198,     0.98298,     0.98398,\n",
       "           0.98498,     0.98599,     0.98699,     0.98799,     0.98899,     0.98999,     0.99099,     0.99199,     0.99299,     0.99399,     0.99499,       0.996,       0.997,       0.998,       0.999,           1]), array([[          1,           1,           1,           1,           1,           1,           1,           1,           1,           1,           1,           1,           1,           1,           1,           1,           1,           1,           1,           1,           1,           1,           1,\n",
       "                  1,           1,           1,           1,           1,           1,           1,           1,           1,           1,           1,           1,           1,           1,           1,           1,           1,           1,           1,           1,           1,           1,           1,\n",
       "                  1,           1,           1,           1,           1,           1,           1,           1,           1,           1,           1,           1,           1,           1,           1,           1,           1,           1,           1,           1,           1,           1,           1,\n",
       "                  1,           1,           1,           1,           1,           1,      0.9927,      0.9927,      0.9927,      0.9927,      0.9927,     0.98919,     0.98919,     0.98919,     0.98919,     0.98919,     0.98919,     0.98919,     0.98919,     0.98919,     0.98919,     0.98919,     0.98919,\n",
       "            0.98919,     0.98919,     0.98919,     0.98919,     0.98919,     0.98919,     0.98919,     0.98919,     0.98919,     0.98919,     0.98919,     0.98919,     0.98919,     0.98919,     0.98919,     0.98919,     0.98462,     0.98462,     0.98462,     0.98462,     0.98462,     0.98039,     0.98039,\n",
       "            0.98039,     0.98039,     0.98039,     0.97976,     0.97976,     0.97976,     0.97976,     0.97976,     0.97976,     0.97976,     0.97976,     0.97976,     0.97976,     0.97976,     0.97976,     0.97976,     0.97976,     0.97976,     0.97976,     0.97976,     0.97976,     0.97976,     0.97976,\n",
       "            0.97976,     0.97976,     0.97976,     0.97976,     0.97976,       0.976,     0.97472,     0.97472,     0.97472,     0.97472,     0.97472,     0.97472,     0.97472,     0.97472,     0.97472,     0.97472,     0.97472,     0.97472,     0.97472,     0.97472,     0.97472,     0.97472,     0.97472,\n",
       "            0.97472,     0.97472,     0.97472,     0.97472,     0.97472,     0.97472,     0.97472,     0.97472,     0.97472,     0.97472,     0.97472,     0.97472,     0.97472,     0.97472,     0.97472,     0.97472,     0.97472,     0.97472,     0.97472,     0.97472,     0.97472,     0.97472,     0.97472,\n",
       "            0.97472,     0.97472,     0.97472,     0.97472,     0.97472,     0.97472,     0.97472,     0.97472,     0.97472,     0.97472,     0.97472,     0.97472,     0.97472,     0.97472,     0.97472,     0.97472,     0.97472,     0.97472,     0.97472,     0.97472,     0.97333,     0.97333,     0.97333,\n",
       "            0.97333,     0.97333,     0.97333,     0.97333,     0.97333,     0.97333,     0.97333,     0.97333,     0.97215,     0.97215,     0.97215,     0.97215,     0.97215,     0.97215,     0.97215,     0.97215,     0.97215,     0.97215,     0.97215,        0.97,        0.97,      0.9686,      0.9686,\n",
       "             0.9686,      0.9686,      0.9686,      0.9686,      0.9686,      0.9686,     0.96659,     0.96659,     0.96536,     0.96536,     0.96536,     0.96536,     0.96536,     0.96536,     0.96536,     0.96536,     0.96364,     0.96364,     0.96364,     0.96364,     0.96078,     0.96078,     0.96078,\n",
       "            0.96078,     0.96078,     0.96078,     0.96078,     0.96078,     0.96078,     0.95896,     0.95896,     0.95532,     0.95532,     0.95532,     0.95519,     0.95519,     0.95519,     0.95519,     0.95519,     0.95519,     0.95519,     0.95519,     0.95519,     0.95519,     0.95519,     0.95519,\n",
       "            0.95409,     0.95409,     0.95409,     0.95409,     0.95409,     0.95322,     0.95322,     0.95322,     0.95322,     0.95322,     0.95322,     0.95322,     0.95256,     0.95256,     0.95256,     0.95256,     0.95256,     0.95256,     0.95256,     0.95194,     0.95194,     0.95194,     0.95194,\n",
       "            0.95194,     0.95194,     0.95194,     0.95194,     0.95028,     0.94821,     0.94821,     0.94821,     0.94821,     0.94821,     0.94821,     0.94821,     0.94821,       0.947,       0.947,       0.947,     0.94595,     0.94595,     0.94595,     0.94595,     0.94595,     0.94595,     0.94595,\n",
       "            0.94595,     0.94595,     0.94595,     0.94595,     0.94595,     0.94595,     0.94595,     0.94444,     0.94355,     0.94355,     0.94355,     0.94355,     0.94355,     0.94355,     0.94355,     0.94355,     0.94355,     0.94355,     0.94355,     0.94355,     0.94355,     0.94355,     0.94231,\n",
       "            0.94231,     0.94164,     0.94164,     0.94164,     0.94164,     0.94164,     0.94145,     0.94145,     0.94145,     0.94145,     0.94145,     0.94145,     0.94145,     0.94145,     0.94046,     0.94046,     0.94046,     0.94003,     0.94003,     0.94003,     0.94003,     0.94003,     0.94003,\n",
       "            0.94003,     0.93881,     0.93824,     0.93824,     0.93824,     0.93824,     0.93824,     0.93777,     0.93777,     0.93777,     0.93777,     0.93777,     0.93777,     0.93777,     0.93777,     0.93777,     0.93777,     0.93777,     0.93777,     0.93777,     0.93777,     0.93777,     0.93715,\n",
       "            0.93715,     0.93715,     0.93715,     0.93715,     0.93602,      0.9349,     0.93379,     0.93306,     0.93306,     0.93306,     0.93306,      0.9329,      0.9329,      0.9329,      0.9329,      0.9329,      0.9329,      0.9329,      0.9329,      0.9329,      0.9329,      0.9329,      0.9329,\n",
       "             0.9329,      0.9329,      0.9329,      0.9329,      0.9329,      0.9329,      0.9329,      0.9329,      0.9329,      0.9329,      0.9329,     0.93196,     0.93196,     0.93011,     0.93011,     0.93011,     0.92911,     0.92911,     0.92509,     0.92509,     0.92509,     0.92509,     0.92469,\n",
       "            0.92469,     0.92469,     0.92469,     0.92383,     0.92383,     0.92176,     0.92092,     0.92092,     0.92029,     0.92029,     0.92029,     0.91957,     0.91957,     0.91776,     0.91776,     0.91776,     0.91686,     0.91598,     0.91509,     0.91502,     0.91502,     0.91502,     0.91502,\n",
       "            0.91502,     0.91502,     0.91299,      0.9118,      0.9118,      0.9118,      0.9118,      0.9118,     0.91156,     0.91156,     0.91156,     0.91156,     0.91156,     0.91084,     0.90991,     0.90909,     0.90817,     0.90545,     0.90545,      0.9044,      0.9044,      0.9044,      0.9044,\n",
       "             0.9044,     0.90393,     0.90393,     0.90393,     0.90368,     0.90368,     0.90368,     0.90368,     0.90319,     0.90319,     0.90319,     0.90319,     0.90319,     0.90319,     0.90319,     0.90319,     0.90234,     0.89968,       0.898,     0.89727,     0.89644,     0.89512,     0.89512,\n",
       "            0.89512,     0.89381,     0.89381,     0.89381,     0.89242,     0.89242,     0.89162,     0.89024,     0.89024,     0.88889,     0.88889,     0.88822,     0.88655,     0.88577,     0.88423,     0.88282,     0.88282,     0.88218,     0.88177,     0.88177,     0.88172,     0.88172,     0.88172,\n",
       "            0.88172,     0.88139,     0.88139,     0.88139,     0.88139,     0.88139,     0.88139,     0.88139,     0.87992,     0.87954,     0.87954,     0.87954,     0.87844,     0.87844,     0.87844,     0.87701,     0.87382,     0.87254,     0.87208,     0.87208,     0.87151,     0.87094,     0.87025,\n",
       "            0.86957,       0.869,     0.86685,      0.8663,     0.86588,     0.86588,     0.86401,     0.86401,     0.86339,     0.86339,     0.86339,     0.86339,     0.86339,     0.86339,     0.86339,     0.86339,     0.86299,     0.86299,     0.86158,     0.86106,     0.86079,     0.86079,      0.8604,\n",
       "             0.8604,     0.85977,     0.85927,     0.85876,     0.85814,     0.85764,     0.85653,     0.85653,     0.85309,     0.85274,     0.85094,     0.85094,     0.84975,     0.84843,     0.84784,     0.84622,     0.84622,     0.84506,     0.84346,     0.84346,     0.84232,     0.84232,      0.8405,\n",
       "            0.84046,     0.84046,     0.84046,     0.83948,     0.83905,     0.83905,     0.83685,     0.83685,     0.83644,     0.83535,     0.83213,      0.8296,     0.82764,     0.82764,     0.82726,     0.82726,      0.8252,      0.8252,     0.82469,     0.82174,     0.82022,     0.82022,     0.82022,\n",
       "            0.82022,     0.82022,     0.82022,     0.82022,     0.81797,     0.81748,     0.81541,     0.81184,     0.81151,     0.81104,     0.81085,     0.81053,     0.81053,      0.8058,      0.8058,      0.8058,     0.80549,     0.80457,     0.80457,     0.80457,     0.80294,      0.7968,     0.79118,\n",
       "            0.78632,     0.78632,     0.78632,     0.78632,     0.78632,     0.78273,     0.78178,     0.77715,      0.7726,     0.77222,     0.77147,     0.76966,     0.76823,     0.76644,     0.76378,      0.7586,      0.7586,     0.75723,     0.75518,     0.75518,     0.75199,     0.75199,     0.75132,\n",
       "            0.75132,      0.7477,     0.74575,     0.74575,     0.74334,     0.74254,     0.74144,     0.73732,      0.7297,     0.72226,     0.72062,     0.71712,     0.71632,     0.71632,     0.71552,     0.71552,      0.7135,     0.70925,     0.70899,     0.70806,     0.70652,     0.70517,     0.69964,\n",
       "             0.6994,     0.69622,     0.69599,     0.69168,     0.69002,     0.68638,     0.68415,     0.68415,     0.67827,     0.67632,     0.67574,     0.67496,     0.67229,     0.66741,     0.66133,     0.65827,     0.65702,     0.65222,     0.65119,     0.64842,     0.64652,     0.64301,     0.64301,\n",
       "             0.6415,     0.63933,     0.63443,     0.63443,     0.62809,      0.6259,     0.61982,     0.61982,      0.6174,     0.61469,      0.6093,     0.60919,     0.60897,     0.60341,     0.60126,     0.59961,     0.59171,     0.59162,     0.59061,     0.59044,     0.58474,     0.58384,     0.57247,\n",
       "               0.57,     0.56557,     0.56342,     0.55683,     0.55551,     0.55521,     0.55076,     0.54734,     0.54608,       0.543,     0.54039,     0.53739,     0.53017,     0.52924,     0.52897,     0.52742,     0.52694,     0.52282,      0.5228,     0.52128,      0.5204,     0.51786,     0.51537,\n",
       "            0.51308,     0.50944,     0.50903,     0.50193,     0.49981,     0.49847,     0.49432,     0.49432,     0.49432,     0.49247,     0.49119,     0.48593,     0.48468,     0.48346,     0.47566,     0.47566,      0.4745,     0.47435,      0.4705,     0.46953,     0.46742,     0.46339,     0.45862,\n",
       "            0.45356,     0.44992,     0.44874,     0.44776,     0.44544,     0.44217,     0.44217,      0.4408,     0.43419,     0.43298,     0.43113,     0.42338,     0.41703,     0.40624,     0.40526,     0.40441,     0.40314,     0.39645,     0.39291,     0.39241,     0.39062,       0.386,     0.38433,\n",
       "            0.38164,     0.38075,     0.37994,     0.37412,     0.37013,     0.36712,      0.3668,     0.36558,     0.36068,     0.35923,     0.35893,     0.35532,     0.34861,      0.3437,     0.34156,     0.34156,     0.34156,     0.33857,     0.33718,     0.33223,     0.33184,     0.33051,     0.32601,\n",
       "            0.32481,     0.32252,     0.31847,     0.31655,     0.31109,     0.30683,     0.30363,      0.2988,     0.29434,     0.29354,     0.29224,     0.28968,     0.28532,     0.28532,     0.27742,     0.26871,     0.26424,     0.26069,     0.25751,     0.24987,     0.24927,      0.2374,     0.23591,\n",
       "            0.23547,     0.23309,     0.23144,     0.23008,     0.22911,     0.22629,     0.22305,     0.22305,     0.21803,     0.21659,     0.21208,     0.21208,      0.2103,     0.20888,     0.20835,     0.20606,     0.20041,     0.19605,     0.19321,     0.19304,     0.18823,     0.18565,     0.18313,\n",
       "            0.17944,     0.17857,     0.17571,     0.17127,     0.17127,     0.16702,     0.16511,     0.16197,     0.15931,     0.15802,     0.15223,     0.14764,     0.14224,     0.13878,      0.1379,     0.13693,      0.1329,     0.13131,     0.13003,     0.12763,     0.12487,     0.12387,     0.12312,\n",
       "            0.12216,     0.12183,     0.12012,     0.11816,     0.11467,     0.11299,     0.10513,     0.10432,     0.10369,     0.10077,    0.099691,    0.098608,    0.097524,    0.096441,    0.095357,    0.094273,     0.09319,    0.092106,    0.091023,    0.089939,    0.088855,    0.087772,    0.086688,\n",
       "           0.085605,    0.084521,    0.083437,    0.082354,     0.08127,    0.080187,    0.079103,    0.078019,    0.076936,    0.075852,    0.074769,    0.073685,    0.072601,    0.071518,    0.070434,     0.06935,    0.068267,    0.067183,      0.0661,    0.065016,    0.063932,    0.062849,    0.061765,\n",
       "           0.060682,    0.059598,    0.058514,    0.057431,    0.056347,    0.055264,     0.05418,    0.053096,    0.052013,    0.050929,    0.049846,    0.048762,    0.047678,    0.046595,    0.045511,    0.044428,    0.043344,     0.04226,    0.041177,    0.040093,     0.03901,    0.037926,    0.036842,\n",
       "           0.035759,    0.034675,    0.033592,    0.032508,    0.031424,    0.030341,    0.029257,    0.028174,     0.02709,    0.026006,    0.024923,    0.023839,    0.022756,    0.021672,    0.020588,    0.019505,    0.018421,    0.017338,    0.016254,     0.01517,    0.014087,    0.013003,     0.01192,\n",
       "           0.010836,   0.0097524,   0.0086688,   0.0075852,   0.0065016,    0.005418,   0.0043344,   0.0032508,   0.0021672,   0.0010836,           0]]), 'Recall', 'Precision'], [array([          0,    0.001001,    0.002002,    0.003003,    0.004004,    0.005005,    0.006006,    0.007007,    0.008008,    0.009009,     0.01001,    0.011011,    0.012012,    0.013013,    0.014014,    0.015015,    0.016016,    0.017017,    0.018018,    0.019019,     0.02002,    0.021021,    0.022022,    0.023023,\n",
       "          0.024024,    0.025025,    0.026026,    0.027027,    0.028028,    0.029029,     0.03003,    0.031031,    0.032032,    0.033033,    0.034034,    0.035035,    0.036036,    0.037037,    0.038038,    0.039039,     0.04004,    0.041041,    0.042042,    0.043043,    0.044044,    0.045045,    0.046046,    0.047047,\n",
       "          0.048048,    0.049049,     0.05005,    0.051051,    0.052052,    0.053053,    0.054054,    0.055055,    0.056056,    0.057057,    0.058058,    0.059059,     0.06006,    0.061061,    0.062062,    0.063063,    0.064064,    0.065065,    0.066066,    0.067067,    0.068068,    0.069069,     0.07007,    0.071071,\n",
       "          0.072072,    0.073073,    0.074074,    0.075075,    0.076076,    0.077077,    0.078078,    0.079079,     0.08008,    0.081081,    0.082082,    0.083083,    0.084084,    0.085085,    0.086086,    0.087087,    0.088088,    0.089089,     0.09009,    0.091091,    0.092092,    0.093093,    0.094094,    0.095095,\n",
       "          0.096096,    0.097097,    0.098098,    0.099099,      0.1001,      0.1011,      0.1021,      0.1031,      0.1041,     0.10511,     0.10611,     0.10711,     0.10811,     0.10911,     0.11011,     0.11111,     0.11211,     0.11311,     0.11411,     0.11512,     0.11612,     0.11712,     0.11812,     0.11912,\n",
       "           0.12012,     0.12112,     0.12212,     0.12312,     0.12412,     0.12513,     0.12613,     0.12713,     0.12813,     0.12913,     0.13013,     0.13113,     0.13213,     0.13313,     0.13413,     0.13514,     0.13614,     0.13714,     0.13814,     0.13914,     0.14014,     0.14114,     0.14214,     0.14314,\n",
       "           0.14414,     0.14515,     0.14615,     0.14715,     0.14815,     0.14915,     0.15015,     0.15115,     0.15215,     0.15315,     0.15415,     0.15516,     0.15616,     0.15716,     0.15816,     0.15916,     0.16016,     0.16116,     0.16216,     0.16316,     0.16416,     0.16517,     0.16617,     0.16717,\n",
       "           0.16817,     0.16917,     0.17017,     0.17117,     0.17217,     0.17317,     0.17417,     0.17518,     0.17618,     0.17718,     0.17818,     0.17918,     0.18018,     0.18118,     0.18218,     0.18318,     0.18418,     0.18519,     0.18619,     0.18719,     0.18819,     0.18919,     0.19019,     0.19119,\n",
       "           0.19219,     0.19319,     0.19419,      0.1952,      0.1962,      0.1972,      0.1982,      0.1992,      0.2002,      0.2012,      0.2022,      0.2032,      0.2042,     0.20521,     0.20621,     0.20721,     0.20821,     0.20921,     0.21021,     0.21121,     0.21221,     0.21321,     0.21421,     0.21522,\n",
       "           0.21622,     0.21722,     0.21822,     0.21922,     0.22022,     0.22122,     0.22222,     0.22322,     0.22422,     0.22523,     0.22623,     0.22723,     0.22823,     0.22923,     0.23023,     0.23123,     0.23223,     0.23323,     0.23423,     0.23524,     0.23624,     0.23724,     0.23824,     0.23924,\n",
       "           0.24024,     0.24124,     0.24224,     0.24324,     0.24424,     0.24525,     0.24625,     0.24725,     0.24825,     0.24925,     0.25025,     0.25125,     0.25225,     0.25325,     0.25425,     0.25526,     0.25626,     0.25726,     0.25826,     0.25926,     0.26026,     0.26126,     0.26226,     0.26326,\n",
       "           0.26426,     0.26527,     0.26627,     0.26727,     0.26827,     0.26927,     0.27027,     0.27127,     0.27227,     0.27327,     0.27427,     0.27528,     0.27628,     0.27728,     0.27828,     0.27928,     0.28028,     0.28128,     0.28228,     0.28328,     0.28428,     0.28529,     0.28629,     0.28729,\n",
       "           0.28829,     0.28929,     0.29029,     0.29129,     0.29229,     0.29329,     0.29429,      0.2953,      0.2963,      0.2973,      0.2983,      0.2993,      0.3003,      0.3013,      0.3023,      0.3033,      0.3043,     0.30531,     0.30631,     0.30731,     0.30831,     0.30931,     0.31031,     0.31131,\n",
       "           0.31231,     0.31331,     0.31431,     0.31532,     0.31632,     0.31732,     0.31832,     0.31932,     0.32032,     0.32132,     0.32232,     0.32332,     0.32432,     0.32533,     0.32633,     0.32733,     0.32833,     0.32933,     0.33033,     0.33133,     0.33233,     0.33333,     0.33433,     0.33534,\n",
       "           0.33634,     0.33734,     0.33834,     0.33934,     0.34034,     0.34134,     0.34234,     0.34334,     0.34434,     0.34535,     0.34635,     0.34735,     0.34835,     0.34935,     0.35035,     0.35135,     0.35235,     0.35335,     0.35435,     0.35536,     0.35636,     0.35736,     0.35836,     0.35936,\n",
       "           0.36036,     0.36136,     0.36236,     0.36336,     0.36436,     0.36537,     0.36637,     0.36737,     0.36837,     0.36937,     0.37037,     0.37137,     0.37237,     0.37337,     0.37437,     0.37538,     0.37638,     0.37738,     0.37838,     0.37938,     0.38038,     0.38138,     0.38238,     0.38338,\n",
       "           0.38438,     0.38539,     0.38639,     0.38739,     0.38839,     0.38939,     0.39039,     0.39139,     0.39239,     0.39339,     0.39439,      0.3954,      0.3964,      0.3974,      0.3984,      0.3994,      0.4004,      0.4014,      0.4024,      0.4034,      0.4044,     0.40541,     0.40641,     0.40741,\n",
       "           0.40841,     0.40941,     0.41041,     0.41141,     0.41241,     0.41341,     0.41441,     0.41542,     0.41642,     0.41742,     0.41842,     0.41942,     0.42042,     0.42142,     0.42242,     0.42342,     0.42442,     0.42543,     0.42643,     0.42743,     0.42843,     0.42943,     0.43043,     0.43143,\n",
       "           0.43243,     0.43343,     0.43443,     0.43544,     0.43644,     0.43744,     0.43844,     0.43944,     0.44044,     0.44144,     0.44244,     0.44344,     0.44444,     0.44545,     0.44645,     0.44745,     0.44845,     0.44945,     0.45045,     0.45145,     0.45245,     0.45345,     0.45445,     0.45546,\n",
       "           0.45646,     0.45746,     0.45846,     0.45946,     0.46046,     0.46146,     0.46246,     0.46346,     0.46446,     0.46547,     0.46647,     0.46747,     0.46847,     0.46947,     0.47047,     0.47147,     0.47247,     0.47347,     0.47447,     0.47548,     0.47648,     0.47748,     0.47848,     0.47948,\n",
       "           0.48048,     0.48148,     0.48248,     0.48348,     0.48448,     0.48549,     0.48649,     0.48749,     0.48849,     0.48949,     0.49049,     0.49149,     0.49249,     0.49349,     0.49449,      0.4955,      0.4965,      0.4975,      0.4985,      0.4995,      0.5005,      0.5015,      0.5025,      0.5035,\n",
       "            0.5045,     0.50551,     0.50651,     0.50751,     0.50851,     0.50951,     0.51051,     0.51151,     0.51251,     0.51351,     0.51451,     0.51552,     0.51652,     0.51752,     0.51852,     0.51952,     0.52052,     0.52152,     0.52252,     0.52352,     0.52452,     0.52553,     0.52653,     0.52753,\n",
       "           0.52853,     0.52953,     0.53053,     0.53153,     0.53253,     0.53353,     0.53453,     0.53554,     0.53654,     0.53754,     0.53854,     0.53954,     0.54054,     0.54154,     0.54254,     0.54354,     0.54454,     0.54555,     0.54655,     0.54755,     0.54855,     0.54955,     0.55055,     0.55155,\n",
       "           0.55255,     0.55355,     0.55455,     0.55556,     0.55656,     0.55756,     0.55856,     0.55956,     0.56056,     0.56156,     0.56256,     0.56356,     0.56456,     0.56557,     0.56657,     0.56757,     0.56857,     0.56957,     0.57057,     0.57157,     0.57257,     0.57357,     0.57457,     0.57558,\n",
       "           0.57658,     0.57758,     0.57858,     0.57958,     0.58058,     0.58158,     0.58258,     0.58358,     0.58458,     0.58559,     0.58659,     0.58759,     0.58859,     0.58959,     0.59059,     0.59159,     0.59259,     0.59359,     0.59459,      0.5956,      0.5966,      0.5976,      0.5986,      0.5996,\n",
       "            0.6006,      0.6016,      0.6026,      0.6036,      0.6046,     0.60561,     0.60661,     0.60761,     0.60861,     0.60961,     0.61061,     0.61161,     0.61261,     0.61361,     0.61461,     0.61562,     0.61662,     0.61762,     0.61862,     0.61962,     0.62062,     0.62162,     0.62262,     0.62362,\n",
       "           0.62462,     0.62563,     0.62663,     0.62763,     0.62863,     0.62963,     0.63063,     0.63163,     0.63263,     0.63363,     0.63463,     0.63564,     0.63664,     0.63764,     0.63864,     0.63964,     0.64064,     0.64164,     0.64264,     0.64364,     0.64464,     0.64565,     0.64665,     0.64765,\n",
       "           0.64865,     0.64965,     0.65065,     0.65165,     0.65265,     0.65365,     0.65465,     0.65566,     0.65666,     0.65766,     0.65866,     0.65966,     0.66066,     0.66166,     0.66266,     0.66366,     0.66466,     0.66567,     0.66667,     0.66767,     0.66867,     0.66967,     0.67067,     0.67167,\n",
       "           0.67267,     0.67367,     0.67467,     0.67568,     0.67668,     0.67768,     0.67868,     0.67968,     0.68068,     0.68168,     0.68268,     0.68368,     0.68468,     0.68569,     0.68669,     0.68769,     0.68869,     0.68969,     0.69069,     0.69169,     0.69269,     0.69369,     0.69469,      0.6957,\n",
       "            0.6967,      0.6977,      0.6987,      0.6997,      0.7007,      0.7017,      0.7027,      0.7037,      0.7047,     0.70571,     0.70671,     0.70771,     0.70871,     0.70971,     0.71071,     0.71171,     0.71271,     0.71371,     0.71471,     0.71572,     0.71672,     0.71772,     0.71872,     0.71972,\n",
       "           0.72072,     0.72172,     0.72272,     0.72372,     0.72472,     0.72573,     0.72673,     0.72773,     0.72873,     0.72973,     0.73073,     0.73173,     0.73273,     0.73373,     0.73473,     0.73574,     0.73674,     0.73774,     0.73874,     0.73974,     0.74074,     0.74174,     0.74274,     0.74374,\n",
       "           0.74474,     0.74575,     0.74675,     0.74775,     0.74875,     0.74975,     0.75075,     0.75175,     0.75275,     0.75375,     0.75475,     0.75576,     0.75676,     0.75776,     0.75876,     0.75976,     0.76076,     0.76176,     0.76276,     0.76376,     0.76476,     0.76577,     0.76677,     0.76777,\n",
       "           0.76877,     0.76977,     0.77077,     0.77177,     0.77277,     0.77377,     0.77477,     0.77578,     0.77678,     0.77778,     0.77878,     0.77978,     0.78078,     0.78178,     0.78278,     0.78378,     0.78478,     0.78579,     0.78679,     0.78779,     0.78879,     0.78979,     0.79079,     0.79179,\n",
       "           0.79279,     0.79379,     0.79479,      0.7958,      0.7968,      0.7978,      0.7988,      0.7998,      0.8008,      0.8018,      0.8028,      0.8038,      0.8048,     0.80581,     0.80681,     0.80781,     0.80881,     0.80981,     0.81081,     0.81181,     0.81281,     0.81381,     0.81481,     0.81582,\n",
       "           0.81682,     0.81782,     0.81882,     0.81982,     0.82082,     0.82182,     0.82282,     0.82382,     0.82482,     0.82583,     0.82683,     0.82783,     0.82883,     0.82983,     0.83083,     0.83183,     0.83283,     0.83383,     0.83483,     0.83584,     0.83684,     0.83784,     0.83884,     0.83984,\n",
       "           0.84084,     0.84184,     0.84284,     0.84384,     0.84484,     0.84585,     0.84685,     0.84785,     0.84885,     0.84985,     0.85085,     0.85185,     0.85285,     0.85385,     0.85485,     0.85586,     0.85686,     0.85786,     0.85886,     0.85986,     0.86086,     0.86186,     0.86286,     0.86386,\n",
       "           0.86486,     0.86587,     0.86687,     0.86787,     0.86887,     0.86987,     0.87087,     0.87187,     0.87287,     0.87387,     0.87487,     0.87588,     0.87688,     0.87788,     0.87888,     0.87988,     0.88088,     0.88188,     0.88288,     0.88388,     0.88488,     0.88589,     0.88689,     0.88789,\n",
       "           0.88889,     0.88989,     0.89089,     0.89189,     0.89289,     0.89389,     0.89489,      0.8959,      0.8969,      0.8979,      0.8989,      0.8999,      0.9009,      0.9019,      0.9029,      0.9039,      0.9049,     0.90591,     0.90691,     0.90791,     0.90891,     0.90991,     0.91091,     0.91191,\n",
       "           0.91291,     0.91391,     0.91491,     0.91592,     0.91692,     0.91792,     0.91892,     0.91992,     0.92092,     0.92192,     0.92292,     0.92392,     0.92492,     0.92593,     0.92693,     0.92793,     0.92893,     0.92993,     0.93093,     0.93193,     0.93293,     0.93393,     0.93493,     0.93594,\n",
       "           0.93694,     0.93794,     0.93894,     0.93994,     0.94094,     0.94194,     0.94294,     0.94394,     0.94494,     0.94595,     0.94695,     0.94795,     0.94895,     0.94995,     0.95095,     0.95195,     0.95295,     0.95395,     0.95495,     0.95596,     0.95696,     0.95796,     0.95896,     0.95996,\n",
       "           0.96096,     0.96196,     0.96296,     0.96396,     0.96496,     0.96597,     0.96697,     0.96797,     0.96897,     0.96997,     0.97097,     0.97197,     0.97297,     0.97397,     0.97497,     0.97598,     0.97698,     0.97798,     0.97898,     0.97998,     0.98098,     0.98198,     0.98298,     0.98398,\n",
       "           0.98498,     0.98599,     0.98699,     0.98799,     0.98899,     0.98999,     0.99099,     0.99199,     0.99299,     0.99399,     0.99499,       0.996,       0.997,       0.998,       0.999,           1]), array([[    0.18205,     0.18219,     0.25145,     0.29435,     0.32502,     0.34735,     0.36597,     0.38235,     0.39732,     0.41199,     0.42527,     0.43524,     0.44488,     0.45374,     0.46186,     0.47046,     0.47681,     0.48166,     0.48922,      0.4961,      0.5017,     0.50564,      0.5105,\n",
       "             0.5166,     0.52017,     0.52541,     0.52945,     0.53453,     0.53726,     0.54138,     0.54556,     0.54944,     0.55419,     0.55847,     0.56076,      0.5647,     0.56666,     0.57027,     0.57306,     0.57623,     0.57874,      0.5819,     0.58432,     0.58733,     0.58938,      0.5908,\n",
       "            0.59295,     0.59482,     0.59597,     0.59901,     0.60015,     0.60076,     0.60329,     0.60545,     0.60765,     0.60983,     0.61095,     0.61224,     0.61356,     0.61494,     0.61662,     0.61708,     0.61807,     0.61958,     0.62039,      0.6213,     0.62336,     0.62544,     0.62712,\n",
       "            0.62813,     0.63002,     0.63142,     0.63347,     0.63503,     0.63532,     0.63612,     0.63812,     0.63912,     0.64006,     0.64236,     0.64347,     0.64383,     0.64579,     0.64698,     0.64717,     0.64896,     0.65026,     0.65078,       0.652,     0.65243,     0.65388,     0.65355,\n",
       "            0.65337,     0.65499,     0.65553,     0.65703,     0.65821,     0.65913,      0.6597,     0.66109,     0.66194,      0.6617,     0.66188,      0.6635,     0.66417,     0.66482,     0.66528,     0.66598,     0.66626,     0.66712,     0.66852,     0.66976,     0.67094,     0.67216,     0.67273,\n",
       "             0.6724,     0.67275,     0.67329,     0.67474,     0.67512,     0.67575,     0.67545,     0.67633,     0.67681,     0.67769,     0.67721,      0.6776,     0.67788,      0.6785,     0.67897,     0.67912,     0.68098,     0.68114,     0.68228,     0.68363,     0.68477,     0.68544,     0.68658,\n",
       "            0.68705,     0.68754,     0.68789,     0.68754,     0.68771,     0.68788,     0.68842,     0.68865,     0.68941,     0.69051,     0.69048,     0.69048,     0.69088,      0.6908,     0.69119,     0.69243,     0.69259,     0.69318,      0.6935,     0.69425,     0.69367,     0.69437,     0.69482,\n",
       "            0.69522,     0.69632,     0.69688,     0.69678,     0.69722,     0.69703,     0.69653,     0.69661,     0.69793,     0.69849,     0.69799,     0.69791,     0.69763,     0.69736,     0.69765,     0.69823,     0.69837,     0.69896,     0.69934,     0.70029,     0.70109,     0.70181,      0.7017,\n",
       "            0.70204,     0.70176,     0.70245,     0.70287,     0.70341,     0.70434,     0.70457,     0.70452,     0.70586,     0.70565,     0.70612,     0.70594,     0.70549,     0.70507,     0.70549,     0.70575,     0.70567,     0.70591,     0.70598,     0.70623,     0.70655,     0.70684,     0.70635,\n",
       "            0.70566,      0.7056,     0.70564,     0.70609,     0.70596,     0.70601,     0.70656,     0.70565,     0.70575,     0.70628,      0.7066,     0.70696,     0.70753,     0.70763,     0.70761,     0.70788,      0.7077,     0.70823,     0.70773,     0.70793,     0.70831,      0.7083,     0.70845,\n",
       "            0.70833,     0.70811,     0.70799,     0.70784,     0.70769,     0.70742,     0.70807,     0.70861,     0.70867,     0.70888,     0.70946,     0.71005,     0.71012,     0.70985,     0.71033,      0.7106,     0.71091,      0.7096,     0.70833,     0.70841,     0.70898,     0.70922,      0.7096,\n",
       "            0.71044,     0.71066,     0.71108,     0.71171,      0.7115,     0.71139,     0.71215,     0.71247,     0.71265,      0.7128,     0.71295,     0.71342,     0.71319,     0.71348,     0.71275,     0.71176,     0.71163,     0.71036,     0.70967,     0.71072,     0.71092,     0.71097,     0.71064,\n",
       "            0.71019,     0.70964,     0.70943,     0.70916,      0.7087,     0.70886,     0.70937,     0.70963,     0.70968,     0.70921,     0.70897,     0.70865,     0.70904,     0.70947,     0.70892,     0.70914,     0.70938,     0.70944,     0.70916,     0.70814,     0.70721,     0.70641,     0.70653,\n",
       "             0.7062,     0.70497,     0.70517,      0.7049,     0.70523,     0.70521,     0.70547,     0.70456,     0.70389,      0.7039,     0.70448,     0.70385,     0.70338,     0.70192,     0.70266,     0.70274,     0.70275,     0.70319,     0.70306,     0.70369,       0.704,     0.70352,     0.70345,\n",
       "            0.70344,     0.70298,     0.70296,     0.70247,     0.70202,     0.70135,     0.70153,     0.70168,     0.70199,      0.7021,     0.70221,     0.70148,     0.70036,     0.70071,     0.69973,     0.69939,      0.6986,      0.6986,     0.69853,     0.69824,       0.698,     0.69728,     0.69675,\n",
       "            0.69696,     0.69686,     0.69656,     0.69517,     0.69547,     0.69523,     0.69496,     0.69511,     0.69515,      0.6948,     0.69373,     0.69372,     0.69314,     0.69328,     0.69344,     0.69319,     0.69336,     0.69299,     0.69259,     0.69193,     0.69177,     0.69158,     0.69155,\n",
       "            0.69134,     0.69103,     0.68993,     0.68882,     0.68838,     0.68749,     0.68739,      0.6866,     0.68658,     0.68615,     0.68587,     0.68491,     0.68422,     0.68298,     0.68217,     0.68142,     0.67996,     0.67962,     0.67974,     0.67915,      0.6788,     0.67838,     0.67856,\n",
       "            0.67826,     0.67796,     0.67767,     0.67708,     0.67634,     0.67615,     0.67564,     0.67542,     0.67526,     0.67386,     0.67267,     0.67196,     0.67162,     0.67138,     0.67142,     0.67126,     0.67167,     0.67212,     0.67137,     0.67101,     0.67009,     0.66898,     0.66801,\n",
       "            0.66712,     0.66656,     0.66625,      0.6652,     0.66393,     0.66336,     0.66249,     0.66202,     0.66135,     0.65889,     0.65786,     0.65709,     0.65636,     0.65603,     0.65542,     0.65538,     0.65477,     0.65505,     0.65475,      0.6546,     0.65379,     0.65253,     0.65224,\n",
       "            0.65148,     0.65066,     0.65061,     0.65075,     0.65079,      0.6505,     0.64948,     0.64891,      0.6474,     0.64603,     0.64524,     0.64463,     0.64401,     0.64356,     0.64316,      0.6434,     0.64306,     0.64295,     0.64292,     0.64279,     0.64194,     0.64097,     0.63954,\n",
       "            0.63787,     0.63579,     0.63575,     0.63357,     0.63217,     0.63152,     0.63079,     0.62957,     0.62858,     0.62755,     0.62591,     0.62469,     0.62516,     0.62499,     0.62468,     0.62376,      0.6236,     0.62299,     0.62221,     0.62088,     0.61961,     0.61897,     0.61827,\n",
       "             0.6177,     0.61618,     0.61413,     0.61386,     0.61373,     0.61406,     0.61259,     0.61144,      0.6092,     0.60875,     0.60754,     0.60701,     0.60611,     0.60567,     0.60445,     0.60339,     0.60263,       0.602,     0.60158,     0.60038,     0.59986,      0.5995,     0.59889,\n",
       "            0.59821,     0.59789,     0.59759,     0.59599,     0.59453,     0.59353,     0.59282,     0.59142,     0.59068,     0.58902,     0.58928,     0.58839,     0.58619,     0.58521,     0.58368,     0.58183,     0.58088,     0.58058,     0.57981,     0.57956,     0.57826,     0.57602,     0.57489,\n",
       "            0.57313,     0.57255,     0.57201,     0.57084,     0.57041,     0.56857,     0.56793,     0.56663,     0.56508,     0.56276,     0.56204,     0.56154,     0.56125,     0.56144,      0.5611,      0.5584,     0.55767,     0.55705,     0.55632,     0.55614,     0.55543,     0.55523,     0.55381,\n",
       "            0.55269,     0.55188,      0.5509,     0.55006,     0.54885,     0.54746,     0.54507,      0.5436,     0.54174,     0.54048,      0.5393,       0.539,      0.5387,     0.53836,     0.53797,     0.53721,     0.53539,     0.53198,     0.53053,     0.52955,     0.52575,     0.52407,       0.522,\n",
       "            0.52103,     0.51921,     0.51574,     0.51464,     0.51321,     0.51126,     0.51028,     0.50902,      0.5084,     0.50742,      0.5057,     0.50339,     0.50162,     0.50007,     0.49922,     0.49635,     0.49412,     0.49325,     0.49146,     0.49055,     0.48917,     0.48875,     0.48765,\n",
       "            0.48697,     0.48654,     0.48537,     0.48396,     0.48329,     0.48138,     0.47964,     0.47899,     0.47459,     0.47283,     0.47087,     0.46757,     0.46506,     0.46262,     0.46127,     0.46047,     0.45969,     0.45959,     0.45924,      0.4581,     0.45544,     0.45294,     0.45223,\n",
       "            0.45079,     0.44773,     0.44683,     0.44514,     0.44216,     0.44115,     0.43793,     0.43575,     0.43475,     0.43264,      0.4316,     0.42974,     0.42674,     0.42417,     0.42001,     0.41929,     0.41745,     0.41639,     0.41355,     0.41087,     0.41032,      0.4075,     0.40523,\n",
       "            0.40471,     0.40394,     0.40038,     0.39833,     0.39655,       0.396,      0.3933,     0.39162,     0.38947,      0.3871,     0.38288,     0.38196,     0.38206,     0.37997,     0.37884,     0.37754,     0.37555,      0.3741,     0.37155,     0.37039,     0.36884,     0.36714,     0.36553,\n",
       "            0.36508,     0.36416,     0.36169,     0.36063,     0.35729,     0.35382,     0.35206,      0.3507,      0.3479,      0.3452,     0.34463,      0.3415,     0.33812,     0.33734,     0.33482,     0.33165,     0.32901,     0.32731,     0.32432,     0.32208,     0.32108,      0.3173,     0.31528,\n",
       "            0.31387,     0.31065,     0.30892,     0.30708,     0.30429,     0.30194,     0.29905,     0.29633,      0.2943,     0.29059,     0.28882,     0.28636,     0.28438,     0.28339,     0.28144,     0.27991,     0.27771,     0.27368,     0.27035,     0.26862,     0.26827,     0.26765,     0.26524,\n",
       "            0.26427,     0.26212,      0.2602,     0.25899,     0.25759,     0.25715,     0.25517,     0.25413,     0.25235,     0.25098,     0.25004,     0.24833,     0.24742,     0.24186,     0.23833,     0.23711,     0.23653,       0.236,     0.23496,     0.23413,     0.23159,      0.2302,       0.228,\n",
       "            0.22708,     0.22624,      0.2229,     0.22173,     0.22091,     0.21726,     0.21602,     0.21353,     0.20947,     0.20805,     0.20749,     0.20611,     0.20576,      0.2054,     0.20247,     0.20002,     0.19922,     0.19864,     0.19668,     0.19521,     0.19397,       0.192,     0.18882,\n",
       "            0.18815,     0.18793,     0.18772,      0.1875,     0.18668,     0.18487,      0.1841,     0.18209,     0.18068,      0.1786,     0.17715,     0.17526,     0.17441,     0.17368,     0.17203,     0.17096,     0.16912,     0.16863,     0.16835,     0.16806,     0.16777,     0.16746,     0.16714,\n",
       "            0.16679,     0.16606,     0.16384,     0.16312,     0.16135,     0.16069,     0.16028,     0.15939,     0.15867,     0.15839,     0.15812,     0.15691,     0.15646,       0.156,     0.15528,     0.15461,     0.15403,     0.15271,     0.15227,     0.15096,     0.14834,     0.14723,     0.14661,\n",
       "            0.14613,     0.14513,      0.1439,     0.14378,     0.14367,     0.14355,     0.14344,     0.14332,     0.14321,      0.1431,     0.14298,     0.14225,     0.14136,     0.14068,     0.14016,     0.13953,     0.13892,     0.13846,     0.13789,     0.13579,     0.13479,     0.13425,     0.13307,\n",
       "            0.13173,     0.12972,     0.12632,     0.12577,     0.12418,     0.12307,     0.12257,     0.12132,     0.12076,     0.11936,     0.11842,     0.11789,      0.1174,     0.11643,     0.11552,     0.11221,     0.11093,      0.1104,     0.10945,     0.10678,     0.10465,     0.10387,    0.099998,\n",
       "           0.096953,    0.096313,    0.095618,    0.093507,     0.08891,     0.08649,    0.084036,    0.081155,    0.080632,    0.080058,    0.077264,    0.070172,    0.068665,     0.06507,    0.063218,    0.062573,    0.060918,    0.058687,    0.056762,    0.054984,    0.052569,    0.050401,    0.049742,\n",
       "           0.048546,    0.045713,    0.044975,    0.041376,    0.040771,    0.037263,    0.035327,    0.033761,    0.028882,    0.027664,    0.027264,    0.026863,    0.026244,    0.025253,    0.023484,     0.02087,    0.020498,    0.020126,    0.019742,    0.019249,    0.018755,    0.017642,    0.015574,\n",
       "           0.014759,    0.014215,    0.013544,    0.012781,    0.011837,      0.0108,    0.010409,     0.01025,    0.010091,   0.0099317,   0.0097726,   0.0096136,   0.0094545,   0.0089069,   0.0080717,   0.0077092,   0.0073467,   0.0068219,   0.0052892,   0.0045022,   0.0041665,   0.0038307,   0.0034553,\n",
       "          0.0026131,   0.0022342,   0.0020672,   0.0019002,   0.0017332,   0.0015661,   0.0013991,   0.0012319,           0,           0,           0,           0,           0,           0,           0,           0,           0,           0,           0,           0,           0,           0,           0,\n",
       "                  0,           0,           0,           0,           0,           0,           0,           0,           0,           0,           0,           0,           0,           0,           0,           0,           0,           0,           0,           0,           0,           0,           0,\n",
       "                  0,           0,           0,           0,           0,           0,           0,           0,           0,           0,           0,           0,           0,           0,           0,           0,           0,           0,           0,           0,           0,           0,           0,\n",
       "                  0,           0,           0,           0,           0,           0,           0,           0,           0,           0,           0]]), 'Confidence', 'F1'], [array([          0,    0.001001,    0.002002,    0.003003,    0.004004,    0.005005,    0.006006,    0.007007,    0.008008,    0.009009,     0.01001,    0.011011,    0.012012,    0.013013,    0.014014,    0.015015,    0.016016,    0.017017,    0.018018,    0.019019,     0.02002,    0.021021,    0.022022,    0.023023,\n",
       "          0.024024,    0.025025,    0.026026,    0.027027,    0.028028,    0.029029,     0.03003,    0.031031,    0.032032,    0.033033,    0.034034,    0.035035,    0.036036,    0.037037,    0.038038,    0.039039,     0.04004,    0.041041,    0.042042,    0.043043,    0.044044,    0.045045,    0.046046,    0.047047,\n",
       "          0.048048,    0.049049,     0.05005,    0.051051,    0.052052,    0.053053,    0.054054,    0.055055,    0.056056,    0.057057,    0.058058,    0.059059,     0.06006,    0.061061,    0.062062,    0.063063,    0.064064,    0.065065,    0.066066,    0.067067,    0.068068,    0.069069,     0.07007,    0.071071,\n",
       "          0.072072,    0.073073,    0.074074,    0.075075,    0.076076,    0.077077,    0.078078,    0.079079,     0.08008,    0.081081,    0.082082,    0.083083,    0.084084,    0.085085,    0.086086,    0.087087,    0.088088,    0.089089,     0.09009,    0.091091,    0.092092,    0.093093,    0.094094,    0.095095,\n",
       "          0.096096,    0.097097,    0.098098,    0.099099,      0.1001,      0.1011,      0.1021,      0.1031,      0.1041,     0.10511,     0.10611,     0.10711,     0.10811,     0.10911,     0.11011,     0.11111,     0.11211,     0.11311,     0.11411,     0.11512,     0.11612,     0.11712,     0.11812,     0.11912,\n",
       "           0.12012,     0.12112,     0.12212,     0.12312,     0.12412,     0.12513,     0.12613,     0.12713,     0.12813,     0.12913,     0.13013,     0.13113,     0.13213,     0.13313,     0.13413,     0.13514,     0.13614,     0.13714,     0.13814,     0.13914,     0.14014,     0.14114,     0.14214,     0.14314,\n",
       "           0.14414,     0.14515,     0.14615,     0.14715,     0.14815,     0.14915,     0.15015,     0.15115,     0.15215,     0.15315,     0.15415,     0.15516,     0.15616,     0.15716,     0.15816,     0.15916,     0.16016,     0.16116,     0.16216,     0.16316,     0.16416,     0.16517,     0.16617,     0.16717,\n",
       "           0.16817,     0.16917,     0.17017,     0.17117,     0.17217,     0.17317,     0.17417,     0.17518,     0.17618,     0.17718,     0.17818,     0.17918,     0.18018,     0.18118,     0.18218,     0.18318,     0.18418,     0.18519,     0.18619,     0.18719,     0.18819,     0.18919,     0.19019,     0.19119,\n",
       "           0.19219,     0.19319,     0.19419,      0.1952,      0.1962,      0.1972,      0.1982,      0.1992,      0.2002,      0.2012,      0.2022,      0.2032,      0.2042,     0.20521,     0.20621,     0.20721,     0.20821,     0.20921,     0.21021,     0.21121,     0.21221,     0.21321,     0.21421,     0.21522,\n",
       "           0.21622,     0.21722,     0.21822,     0.21922,     0.22022,     0.22122,     0.22222,     0.22322,     0.22422,     0.22523,     0.22623,     0.22723,     0.22823,     0.22923,     0.23023,     0.23123,     0.23223,     0.23323,     0.23423,     0.23524,     0.23624,     0.23724,     0.23824,     0.23924,\n",
       "           0.24024,     0.24124,     0.24224,     0.24324,     0.24424,     0.24525,     0.24625,     0.24725,     0.24825,     0.24925,     0.25025,     0.25125,     0.25225,     0.25325,     0.25425,     0.25526,     0.25626,     0.25726,     0.25826,     0.25926,     0.26026,     0.26126,     0.26226,     0.26326,\n",
       "           0.26426,     0.26527,     0.26627,     0.26727,     0.26827,     0.26927,     0.27027,     0.27127,     0.27227,     0.27327,     0.27427,     0.27528,     0.27628,     0.27728,     0.27828,     0.27928,     0.28028,     0.28128,     0.28228,     0.28328,     0.28428,     0.28529,     0.28629,     0.28729,\n",
       "           0.28829,     0.28929,     0.29029,     0.29129,     0.29229,     0.29329,     0.29429,      0.2953,      0.2963,      0.2973,      0.2983,      0.2993,      0.3003,      0.3013,      0.3023,      0.3033,      0.3043,     0.30531,     0.30631,     0.30731,     0.30831,     0.30931,     0.31031,     0.31131,\n",
       "           0.31231,     0.31331,     0.31431,     0.31532,     0.31632,     0.31732,     0.31832,     0.31932,     0.32032,     0.32132,     0.32232,     0.32332,     0.32432,     0.32533,     0.32633,     0.32733,     0.32833,     0.32933,     0.33033,     0.33133,     0.33233,     0.33333,     0.33433,     0.33534,\n",
       "           0.33634,     0.33734,     0.33834,     0.33934,     0.34034,     0.34134,     0.34234,     0.34334,     0.34434,     0.34535,     0.34635,     0.34735,     0.34835,     0.34935,     0.35035,     0.35135,     0.35235,     0.35335,     0.35435,     0.35536,     0.35636,     0.35736,     0.35836,     0.35936,\n",
       "           0.36036,     0.36136,     0.36236,     0.36336,     0.36436,     0.36537,     0.36637,     0.36737,     0.36837,     0.36937,     0.37037,     0.37137,     0.37237,     0.37337,     0.37437,     0.37538,     0.37638,     0.37738,     0.37838,     0.37938,     0.38038,     0.38138,     0.38238,     0.38338,\n",
       "           0.38438,     0.38539,     0.38639,     0.38739,     0.38839,     0.38939,     0.39039,     0.39139,     0.39239,     0.39339,     0.39439,      0.3954,      0.3964,      0.3974,      0.3984,      0.3994,      0.4004,      0.4014,      0.4024,      0.4034,      0.4044,     0.40541,     0.40641,     0.40741,\n",
       "           0.40841,     0.40941,     0.41041,     0.41141,     0.41241,     0.41341,     0.41441,     0.41542,     0.41642,     0.41742,     0.41842,     0.41942,     0.42042,     0.42142,     0.42242,     0.42342,     0.42442,     0.42543,     0.42643,     0.42743,     0.42843,     0.42943,     0.43043,     0.43143,\n",
       "           0.43243,     0.43343,     0.43443,     0.43544,     0.43644,     0.43744,     0.43844,     0.43944,     0.44044,     0.44144,     0.44244,     0.44344,     0.44444,     0.44545,     0.44645,     0.44745,     0.44845,     0.44945,     0.45045,     0.45145,     0.45245,     0.45345,     0.45445,     0.45546,\n",
       "           0.45646,     0.45746,     0.45846,     0.45946,     0.46046,     0.46146,     0.46246,     0.46346,     0.46446,     0.46547,     0.46647,     0.46747,     0.46847,     0.46947,     0.47047,     0.47147,     0.47247,     0.47347,     0.47447,     0.47548,     0.47648,     0.47748,     0.47848,     0.47948,\n",
       "           0.48048,     0.48148,     0.48248,     0.48348,     0.48448,     0.48549,     0.48649,     0.48749,     0.48849,     0.48949,     0.49049,     0.49149,     0.49249,     0.49349,     0.49449,      0.4955,      0.4965,      0.4975,      0.4985,      0.4995,      0.5005,      0.5015,      0.5025,      0.5035,\n",
       "            0.5045,     0.50551,     0.50651,     0.50751,     0.50851,     0.50951,     0.51051,     0.51151,     0.51251,     0.51351,     0.51451,     0.51552,     0.51652,     0.51752,     0.51852,     0.51952,     0.52052,     0.52152,     0.52252,     0.52352,     0.52452,     0.52553,     0.52653,     0.52753,\n",
       "           0.52853,     0.52953,     0.53053,     0.53153,     0.53253,     0.53353,     0.53453,     0.53554,     0.53654,     0.53754,     0.53854,     0.53954,     0.54054,     0.54154,     0.54254,     0.54354,     0.54454,     0.54555,     0.54655,     0.54755,     0.54855,     0.54955,     0.55055,     0.55155,\n",
       "           0.55255,     0.55355,     0.55455,     0.55556,     0.55656,     0.55756,     0.55856,     0.55956,     0.56056,     0.56156,     0.56256,     0.56356,     0.56456,     0.56557,     0.56657,     0.56757,     0.56857,     0.56957,     0.57057,     0.57157,     0.57257,     0.57357,     0.57457,     0.57558,\n",
       "           0.57658,     0.57758,     0.57858,     0.57958,     0.58058,     0.58158,     0.58258,     0.58358,     0.58458,     0.58559,     0.58659,     0.58759,     0.58859,     0.58959,     0.59059,     0.59159,     0.59259,     0.59359,     0.59459,      0.5956,      0.5966,      0.5976,      0.5986,      0.5996,\n",
       "            0.6006,      0.6016,      0.6026,      0.6036,      0.6046,     0.60561,     0.60661,     0.60761,     0.60861,     0.60961,     0.61061,     0.61161,     0.61261,     0.61361,     0.61461,     0.61562,     0.61662,     0.61762,     0.61862,     0.61962,     0.62062,     0.62162,     0.62262,     0.62362,\n",
       "           0.62462,     0.62563,     0.62663,     0.62763,     0.62863,     0.62963,     0.63063,     0.63163,     0.63263,     0.63363,     0.63463,     0.63564,     0.63664,     0.63764,     0.63864,     0.63964,     0.64064,     0.64164,     0.64264,     0.64364,     0.64464,     0.64565,     0.64665,     0.64765,\n",
       "           0.64865,     0.64965,     0.65065,     0.65165,     0.65265,     0.65365,     0.65465,     0.65566,     0.65666,     0.65766,     0.65866,     0.65966,     0.66066,     0.66166,     0.66266,     0.66366,     0.66466,     0.66567,     0.66667,     0.66767,     0.66867,     0.66967,     0.67067,     0.67167,\n",
       "           0.67267,     0.67367,     0.67467,     0.67568,     0.67668,     0.67768,     0.67868,     0.67968,     0.68068,     0.68168,     0.68268,     0.68368,     0.68468,     0.68569,     0.68669,     0.68769,     0.68869,     0.68969,     0.69069,     0.69169,     0.69269,     0.69369,     0.69469,      0.6957,\n",
       "            0.6967,      0.6977,      0.6987,      0.6997,      0.7007,      0.7017,      0.7027,      0.7037,      0.7047,     0.70571,     0.70671,     0.70771,     0.70871,     0.70971,     0.71071,     0.71171,     0.71271,     0.71371,     0.71471,     0.71572,     0.71672,     0.71772,     0.71872,     0.71972,\n",
       "           0.72072,     0.72172,     0.72272,     0.72372,     0.72472,     0.72573,     0.72673,     0.72773,     0.72873,     0.72973,     0.73073,     0.73173,     0.73273,     0.73373,     0.73473,     0.73574,     0.73674,     0.73774,     0.73874,     0.73974,     0.74074,     0.74174,     0.74274,     0.74374,\n",
       "           0.74474,     0.74575,     0.74675,     0.74775,     0.74875,     0.74975,     0.75075,     0.75175,     0.75275,     0.75375,     0.75475,     0.75576,     0.75676,     0.75776,     0.75876,     0.75976,     0.76076,     0.76176,     0.76276,     0.76376,     0.76476,     0.76577,     0.76677,     0.76777,\n",
       "           0.76877,     0.76977,     0.77077,     0.77177,     0.77277,     0.77377,     0.77477,     0.77578,     0.77678,     0.77778,     0.77878,     0.77978,     0.78078,     0.78178,     0.78278,     0.78378,     0.78478,     0.78579,     0.78679,     0.78779,     0.78879,     0.78979,     0.79079,     0.79179,\n",
       "           0.79279,     0.79379,     0.79479,      0.7958,      0.7968,      0.7978,      0.7988,      0.7998,      0.8008,      0.8018,      0.8028,      0.8038,      0.8048,     0.80581,     0.80681,     0.80781,     0.80881,     0.80981,     0.81081,     0.81181,     0.81281,     0.81381,     0.81481,     0.81582,\n",
       "           0.81682,     0.81782,     0.81882,     0.81982,     0.82082,     0.82182,     0.82282,     0.82382,     0.82482,     0.82583,     0.82683,     0.82783,     0.82883,     0.82983,     0.83083,     0.83183,     0.83283,     0.83383,     0.83483,     0.83584,     0.83684,     0.83784,     0.83884,     0.83984,\n",
       "           0.84084,     0.84184,     0.84284,     0.84384,     0.84484,     0.84585,     0.84685,     0.84785,     0.84885,     0.84985,     0.85085,     0.85185,     0.85285,     0.85385,     0.85485,     0.85586,     0.85686,     0.85786,     0.85886,     0.85986,     0.86086,     0.86186,     0.86286,     0.86386,\n",
       "           0.86486,     0.86587,     0.86687,     0.86787,     0.86887,     0.86987,     0.87087,     0.87187,     0.87287,     0.87387,     0.87487,     0.87588,     0.87688,     0.87788,     0.87888,     0.87988,     0.88088,     0.88188,     0.88288,     0.88388,     0.88488,     0.88589,     0.88689,     0.88789,\n",
       "           0.88889,     0.88989,     0.89089,     0.89189,     0.89289,     0.89389,     0.89489,      0.8959,      0.8969,      0.8979,      0.8989,      0.8999,      0.9009,      0.9019,      0.9029,      0.9039,      0.9049,     0.90591,     0.90691,     0.90791,     0.90891,     0.90991,     0.91091,     0.91191,\n",
       "           0.91291,     0.91391,     0.91491,     0.91592,     0.91692,     0.91792,     0.91892,     0.91992,     0.92092,     0.92192,     0.92292,     0.92392,     0.92492,     0.92593,     0.92693,     0.92793,     0.92893,     0.92993,     0.93093,     0.93193,     0.93293,     0.93393,     0.93493,     0.93594,\n",
       "           0.93694,     0.93794,     0.93894,     0.93994,     0.94094,     0.94194,     0.94294,     0.94394,     0.94494,     0.94595,     0.94695,     0.94795,     0.94895,     0.94995,     0.95095,     0.95195,     0.95295,     0.95395,     0.95495,     0.95596,     0.95696,     0.95796,     0.95896,     0.95996,\n",
       "           0.96096,     0.96196,     0.96296,     0.96396,     0.96496,     0.96597,     0.96697,     0.96797,     0.96897,     0.96997,     0.97097,     0.97197,     0.97297,     0.97397,     0.97497,     0.97598,     0.97698,     0.97798,     0.97898,     0.97998,     0.98098,     0.98198,     0.98298,     0.98398,\n",
       "           0.98498,     0.98599,     0.98699,     0.98799,     0.98899,     0.98999,     0.99099,     0.99199,     0.99299,     0.99399,     0.99499,       0.996,       0.997,       0.998,       0.999,           1]), array([[    0.10119,     0.10127,     0.14652,      0.1769,     0.19993,      0.2176,     0.23296,     0.24674,     0.25963,     0.27255,     0.28449,     0.29399,     0.30316,     0.31186,     0.31994,     0.32871,     0.33542,     0.34116,       0.349,     0.35627,     0.36271,      0.3674,     0.37292,\n",
       "            0.37986,     0.38439,     0.39031,     0.39562,      0.4015,     0.40547,     0.41049,     0.41531,     0.41999,     0.42591,     0.43098,     0.43442,     0.43935,     0.44247,     0.44765,     0.45167,     0.45622,     0.45958,     0.46379,     0.46729,     0.47181,     0.47533,     0.47786,\n",
       "            0.48091,      0.4836,     0.48582,      0.4901,     0.49236,      0.4944,     0.49833,      0.5018,     0.50509,     0.50836,     0.51045,     0.51279,     0.51465,     0.51713,     0.52006,     0.52184,     0.52382,     0.52627,     0.52832,     0.53112,     0.53413,      0.5378,     0.54028,\n",
       "             0.5424,     0.54555,     0.54861,     0.55269,     0.55507,      0.5564,     0.55807,     0.56115,     0.56337,     0.56553,     0.56914,     0.57123,     0.57251,     0.57562,     0.57751,     0.57818,     0.58104,     0.58312,     0.58434,     0.58668,     0.58776,     0.59011,      0.5911,\n",
       "            0.59154,     0.59425,     0.59552,       0.598,     0.60036,      0.6027,     0.60406,     0.60681,     0.60874,     0.60908,     0.60979,     0.61255,     0.61412,     0.61566,     0.61723,     0.61894,      0.6203,     0.62224,     0.62467,     0.62728,     0.63027,     0.63243,     0.63343,\n",
       "            0.63423,     0.63484,     0.63628,     0.63888,     0.64002,     0.64164,     0.64246,      0.6446,     0.64636,     0.64804,     0.64807,     0.64887,     0.64938,     0.65053,     0.65187,     0.65316,     0.65661,     0.65844,     0.66161,     0.66415,      0.6663,     0.66809,     0.67027,\n",
       "            0.67214,     0.67317,     0.67386,     0.67464,     0.67558,      0.6771,     0.67872,     0.67952,     0.68119,     0.68334,     0.68443,     0.68499,     0.68578,      0.6862,     0.68753,     0.68999,     0.69163,     0.69324,     0.69387,     0.69538,     0.69599,     0.69801,     0.69891,\n",
       "            0.70093,     0.70318,     0.70494,      0.7064,     0.70748,     0.70818,      0.7092,        0.71,     0.71276,     0.71456,     0.71509,      0.7161,     0.71664,     0.71739,     0.71865,     0.71988,     0.72086,     0.72223,     0.72359,     0.72563,     0.72736,     0.72891,     0.72925,\n",
       "            0.73076,     0.73076,     0.73235,     0.73327,     0.73443,     0.73646,     0.73725,     0.73757,     0.74051,     0.74148,      0.7425,     0.74283,     0.74305,     0.74306,     0.74399,     0.74456,      0.7455,     0.74712,     0.74801,     0.74893,     0.75001,     0.75067,     0.75101,\n",
       "            0.75174,     0.75235,     0.75317,     0.75422,     0.75496,     0.75633,     0.75837,     0.75819,     0.75884,     0.76005,     0.76079,     0.76164,     0.76295,     0.76369,     0.76472,     0.76615,     0.76652,     0.76784,      0.7682,     0.76868,     0.76958,     0.77036,     0.77103,\n",
       "            0.77123,     0.77179,      0.7722,     0.77214,     0.77208,     0.77317,     0.77473,     0.77602,       0.777,     0.77834,     0.77976,     0.78118,     0.78265,     0.78325,     0.78442,     0.78508,     0.78625,     0.78577,     0.78578,     0.78664,     0.78805,     0.78948,     0.79136,\n",
       "            0.79344,       0.794,     0.79506,     0.79663,      0.7972,     0.79763,     0.79956,     0.80035,     0.80082,      0.8012,     0.80157,     0.80277,     0.80284,     0.80383,     0.80422,     0.80409,     0.80471,     0.80547,     0.80532,     0.80802,     0.80933,     0.81041,      0.8103,\n",
       "            0.81068,      0.8105,     0.81096,      0.8114,     0.81146,     0.81286,     0.81419,     0.81489,     0.81536,      0.8152,     0.81513,     0.81527,     0.81632,     0.81745,     0.81799,     0.81857,     0.81923,     0.81968,     0.81959,     0.81982,     0.81952,     0.81938,     0.81986,\n",
       "            0.81975,     0.81935,     0.82017,     0.82045,     0.82135,     0.82339,     0.82409,      0.8249,     0.82469,     0.82508,     0.82667,     0.82708,     0.82743,     0.82697,     0.82917,     0.82958,     0.83053,     0.83209,     0.83249,     0.83425,     0.83533,     0.83518,     0.83579,\n",
       "            0.83636,     0.83623,     0.83665,     0.83668,     0.83655,     0.83635,     0.83707,     0.83751,     0.83838,      0.8387,     0.83902,     0.83921,     0.83944,     0.84043,     0.84017,     0.84007,     0.84013,     0.84129,     0.84232,     0.84223,     0.84305,     0.84321,     0.84413,\n",
       "            0.84476,       0.845,     0.84597,     0.84668,     0.84757,      0.8484,     0.84848,     0.84895,     0.84968,     0.85045,     0.85095,     0.85257,     0.85292,     0.85461,     0.85516,      0.8551,     0.85611,     0.85639,     0.85764,     0.85746,      0.8581,     0.85834,     0.85872,\n",
       "            0.85866,     0.85924,     0.85976,     0.86075,     0.86063,     0.86039,     0.86106,     0.86125,     0.86252,     0.86284,     0.86277,     0.86322,     0.86304,     0.86271,     0.86321,     0.86301,     0.86335,     0.86326,       0.864,     0.86385,     0.86376,     0.86437,     0.86587,\n",
       "            0.86579,     0.86571,     0.86564,     0.86622,     0.86676,     0.86744,     0.86913,     0.86984,     0.87079,     0.87132,     0.87178,     0.87236,     0.87227,     0.87221,     0.87275,     0.87371,     0.87512,     0.87665,      0.8768,     0.87827,     0.87805,     0.87934,     0.87951,\n",
       "            0.88127,     0.88113,     0.88106,     0.88081,     0.88051,     0.88038,     0.88097,     0.88086,      0.8815,     0.88092,     0.88149,     0.88212,     0.88195,     0.88269,     0.88368,     0.88419,     0.88405,     0.88573,     0.88635,     0.88754,     0.88883,     0.88855,     0.88924,\n",
       "            0.89001,     0.88983,     0.89018,     0.89071,     0.89157,     0.89156,     0.89214,     0.89273,      0.8943,     0.89488,     0.89516,     0.89654,       0.898,      0.8979,     0.89836,     0.89929,     0.89985,     0.90047,     0.90121,     0.90261,     0.90299,      0.9028,     0.90251,\n",
       "            0.90217,     0.90205,     0.90359,     0.90315,     0.90381,     0.90368,     0.90353,     0.90423,     0.90403,     0.90382,      0.9054,     0.90567,     0.90765,     0.90812,     0.90903,      0.9103,     0.91078,     0.91067,      0.9115,     0.91125,     0.91101,     0.91089,     0.91083,\n",
       "            0.91165,     0.91136,     0.91097,     0.91092,     0.91123,     0.91502,     0.91475,     0.91454,     0.91412,     0.91459,     0.91589,     0.91684,     0.91668,     0.91765,     0.91898,     0.91936,     0.91923,     0.92018,     0.92011,      0.9199,     0.91989,     0.92082,     0.92072,\n",
       "            0.92168,     0.92324,     0.92376,     0.92459,     0.92435,     0.92418,     0.92406,     0.92494,     0.92482,     0.92454,     0.92889,     0.92995,     0.92976,      0.9306,     0.93285,     0.93257,     0.93243,     0.93238,     0.93226,     0.93223,     0.93203,     0.93168,      0.9315,\n",
       "            0.93123,     0.93114,     0.93225,     0.93207,       0.932,     0.93172,     0.93162,     0.93141,     0.93239,     0.93203,     0.93192,     0.93184,     0.93197,       0.933,     0.93301,     0.93259,     0.93372,     0.93427,     0.93478,     0.93572,     0.93591,     0.93715,     0.93694,\n",
       "            0.93678,     0.93666,     0.93651,     0.93768,      0.9375,     0.93729,     0.93694,     0.93672,     0.93644,     0.93695,      0.9374,     0.93736,     0.93731,     0.93726,      0.9372,     0.93709,     0.93816,     0.93765,     0.93743,     0.93999,     0.93947,     0.93923,     0.94032,\n",
       "            0.94018,     0.94134,     0.94083,     0.94067,     0.94046,     0.94105,     0.94149,      0.9413,     0.94121,     0.94107,     0.94229,     0.94345,      0.9432,     0.94298,     0.94285,     0.94244,     0.94211,     0.94199,     0.94172,     0.94159,     0.94138,     0.94337,     0.94584,\n",
       "            0.94574,     0.94568,     0.94552,     0.94532,     0.94523,     0.94495,     0.94471,     0.94461,      0.9456,     0.94535,     0.94672,     0.94792,     0.94757,     0.94723,     0.94704,     0.94693,     0.94682,     0.94772,     0.95192,     0.95177,     0.95142,     0.95109,       0.951,\n",
       "            0.95081,     0.95218,     0.95207,     0.95184,     0.95145,     0.95314,     0.95272,     0.95243,      0.9523,      0.9539,     0.95376,     0.95352,     0.95504,     0.95471,     0.95417,     0.95407,     0.95383,     0.95369,     0.95446,     0.95496,     0.95896,     0.96069,     0.96042,\n",
       "            0.96036,     0.96027,     0.95984,      0.9596,     0.96048,     0.96269,     0.96333,     0.96534,     0.96511,     0.96486,     0.96439,     0.96517,     0.96636,     0.96637,     0.96856,     0.96843,     0.96823,     0.96809,     0.96783,     0.96771,     0.96995,     0.96979,     0.97207,\n",
       "            0.97203,     0.97195,     0.97172,     0.97162,     0.97131,     0.97097,      0.9708,     0.97325,       0.973,     0.97275,     0.97269,      0.9724,     0.97208,     0.97406,     0.97449,     0.97421,     0.97397,     0.97381,     0.97353,     0.97331,     0.97322,     0.97285,     0.97265,\n",
       "             0.9725,     0.97217,       0.972,      0.9718,     0.97151,     0.97125,     0.97093,     0.97063,      0.9704,     0.96997,     0.96976,     0.96947,     0.96922,      0.9691,     0.96886,     0.96867,     0.96839,     0.96787,     0.96742,     0.96719,     0.97067,     0.97059,     0.97029,\n",
       "            0.97017,      0.9699,     0.96965,     0.96949,     0.96931,     0.96925,     0.96898,     0.97262,      0.9724,     0.97223,      0.9734,     0.97588,     0.97966,     0.97914,      0.9788,     0.97867,     0.97862,     0.97856,     0.97846,     0.97837,     0.97811,     0.97796,     0.97773,\n",
       "            0.97763,     0.97754,     0.97717,     0.97703,     0.97694,     0.97652,     0.97637,     0.97607,     0.98034,     0.98019,     0.98013,     0.97999,     0.97995,     0.97991,     0.98461,      0.9844,     0.98434,     0.98428,     0.98411,     0.98398,     0.98432,     0.98906,     0.98886,\n",
       "            0.98882,      0.9888,     0.98879,     0.98877,     0.98872,      0.9886,     0.98855,     0.98841,     0.98831,     0.98816,     0.98806,     0.98792,     0.98786,      0.9878,     0.98767,     0.98759,     0.98745,     0.98741,     0.98738,     0.98736,     0.98734,     0.98731,     0.98728,\n",
       "            0.98726,      0.9872,     0.98701,     0.98695,     0.98679,     0.98674,      0.9867,     0.98662,     0.98655,     0.98653,      0.9865,     0.98639,     0.98635,     0.98631,     0.98624,     0.98618,     0.98612,     0.98599,     0.98595,     0.98582,     0.98555,     0.99266,     0.99263,\n",
       "             0.9926,     0.99255,     0.99248,     0.99247,     0.99247,     0.99246,     0.99245,     0.99245,     0.99244,     0.99243,     0.99243,     0.99239,     0.99233,     0.99229,     0.99226,     0.99223,     0.99679,           1,           1,           1,           1,           1,           1,\n",
       "                  1,           1,           1,           1,           1,           1,           1,           1,           1,           1,           1,           1,           1,           1,           1,           1,           1,           1,           1,           1,           1,           1,           1,\n",
       "                  1,           1,           1,           1,           1,           1,           1,           1,           1,           1,           1,           1,           1,           1,           1,           1,           1,           1,           1,           1,           1,           1,           1,\n",
       "                  1,           1,           1,           1,           1,           1,           1,           1,           1,           1,           1,           1,           1,           1,           1,           1,           1,           1,           1,           1,           1,           1,           1,\n",
       "                  1,           1,           1,           1,           1,           1,           1,           1,           1,           1,           1,           1,           1,           1,           1,           1,           1,           1,           1,           1,           1,           1,           1,\n",
       "                  1,           1,           1,           1,           1,           1,           1,           1,           1,           1,           1,           1,           1,           1,           1,           1,           1,           1,           1,           1,           1,           1,           1,\n",
       "                  1,           1,           1,           1,           1,           1,           1,           1,           1,           1,           1,           1,           1,           1,           1,           1,           1,           1,           1,           1,           1,           1,           1,\n",
       "                  1,           1,           1,           1,           1,           1,           1,           1,           1,           1,           1,           1,           1,           1,           1,           1,           1,           1,           1,           1,           1,           1,           1,\n",
       "                  1,           1,           1,           1,           1,           1,           1,           1,           1,           1,           1]]), 'Confidence', 'Precision'], [array([          0,    0.001001,    0.002002,    0.003003,    0.004004,    0.005005,    0.006006,    0.007007,    0.008008,    0.009009,     0.01001,    0.011011,    0.012012,    0.013013,    0.014014,    0.015015,    0.016016,    0.017017,    0.018018,    0.019019,     0.02002,    0.021021,    0.022022,    0.023023,\n",
       "          0.024024,    0.025025,    0.026026,    0.027027,    0.028028,    0.029029,     0.03003,    0.031031,    0.032032,    0.033033,    0.034034,    0.035035,    0.036036,    0.037037,    0.038038,    0.039039,     0.04004,    0.041041,    0.042042,    0.043043,    0.044044,    0.045045,    0.046046,    0.047047,\n",
       "          0.048048,    0.049049,     0.05005,    0.051051,    0.052052,    0.053053,    0.054054,    0.055055,    0.056056,    0.057057,    0.058058,    0.059059,     0.06006,    0.061061,    0.062062,    0.063063,    0.064064,    0.065065,    0.066066,    0.067067,    0.068068,    0.069069,     0.07007,    0.071071,\n",
       "          0.072072,    0.073073,    0.074074,    0.075075,    0.076076,    0.077077,    0.078078,    0.079079,     0.08008,    0.081081,    0.082082,    0.083083,    0.084084,    0.085085,    0.086086,    0.087087,    0.088088,    0.089089,     0.09009,    0.091091,    0.092092,    0.093093,    0.094094,    0.095095,\n",
       "          0.096096,    0.097097,    0.098098,    0.099099,      0.1001,      0.1011,      0.1021,      0.1031,      0.1041,     0.10511,     0.10611,     0.10711,     0.10811,     0.10911,     0.11011,     0.11111,     0.11211,     0.11311,     0.11411,     0.11512,     0.11612,     0.11712,     0.11812,     0.11912,\n",
       "           0.12012,     0.12112,     0.12212,     0.12312,     0.12412,     0.12513,     0.12613,     0.12713,     0.12813,     0.12913,     0.13013,     0.13113,     0.13213,     0.13313,     0.13413,     0.13514,     0.13614,     0.13714,     0.13814,     0.13914,     0.14014,     0.14114,     0.14214,     0.14314,\n",
       "           0.14414,     0.14515,     0.14615,     0.14715,     0.14815,     0.14915,     0.15015,     0.15115,     0.15215,     0.15315,     0.15415,     0.15516,     0.15616,     0.15716,     0.15816,     0.15916,     0.16016,     0.16116,     0.16216,     0.16316,     0.16416,     0.16517,     0.16617,     0.16717,\n",
       "           0.16817,     0.16917,     0.17017,     0.17117,     0.17217,     0.17317,     0.17417,     0.17518,     0.17618,     0.17718,     0.17818,     0.17918,     0.18018,     0.18118,     0.18218,     0.18318,     0.18418,     0.18519,     0.18619,     0.18719,     0.18819,     0.18919,     0.19019,     0.19119,\n",
       "           0.19219,     0.19319,     0.19419,      0.1952,      0.1962,      0.1972,      0.1982,      0.1992,      0.2002,      0.2012,      0.2022,      0.2032,      0.2042,     0.20521,     0.20621,     0.20721,     0.20821,     0.20921,     0.21021,     0.21121,     0.21221,     0.21321,     0.21421,     0.21522,\n",
       "           0.21622,     0.21722,     0.21822,     0.21922,     0.22022,     0.22122,     0.22222,     0.22322,     0.22422,     0.22523,     0.22623,     0.22723,     0.22823,     0.22923,     0.23023,     0.23123,     0.23223,     0.23323,     0.23423,     0.23524,     0.23624,     0.23724,     0.23824,     0.23924,\n",
       "           0.24024,     0.24124,     0.24224,     0.24324,     0.24424,     0.24525,     0.24625,     0.24725,     0.24825,     0.24925,     0.25025,     0.25125,     0.25225,     0.25325,     0.25425,     0.25526,     0.25626,     0.25726,     0.25826,     0.25926,     0.26026,     0.26126,     0.26226,     0.26326,\n",
       "           0.26426,     0.26527,     0.26627,     0.26727,     0.26827,     0.26927,     0.27027,     0.27127,     0.27227,     0.27327,     0.27427,     0.27528,     0.27628,     0.27728,     0.27828,     0.27928,     0.28028,     0.28128,     0.28228,     0.28328,     0.28428,     0.28529,     0.28629,     0.28729,\n",
       "           0.28829,     0.28929,     0.29029,     0.29129,     0.29229,     0.29329,     0.29429,      0.2953,      0.2963,      0.2973,      0.2983,      0.2993,      0.3003,      0.3013,      0.3023,      0.3033,      0.3043,     0.30531,     0.30631,     0.30731,     0.30831,     0.30931,     0.31031,     0.31131,\n",
       "           0.31231,     0.31331,     0.31431,     0.31532,     0.31632,     0.31732,     0.31832,     0.31932,     0.32032,     0.32132,     0.32232,     0.32332,     0.32432,     0.32533,     0.32633,     0.32733,     0.32833,     0.32933,     0.33033,     0.33133,     0.33233,     0.33333,     0.33433,     0.33534,\n",
       "           0.33634,     0.33734,     0.33834,     0.33934,     0.34034,     0.34134,     0.34234,     0.34334,     0.34434,     0.34535,     0.34635,     0.34735,     0.34835,     0.34935,     0.35035,     0.35135,     0.35235,     0.35335,     0.35435,     0.35536,     0.35636,     0.35736,     0.35836,     0.35936,\n",
       "           0.36036,     0.36136,     0.36236,     0.36336,     0.36436,     0.36537,     0.36637,     0.36737,     0.36837,     0.36937,     0.37037,     0.37137,     0.37237,     0.37337,     0.37437,     0.37538,     0.37638,     0.37738,     0.37838,     0.37938,     0.38038,     0.38138,     0.38238,     0.38338,\n",
       "           0.38438,     0.38539,     0.38639,     0.38739,     0.38839,     0.38939,     0.39039,     0.39139,     0.39239,     0.39339,     0.39439,      0.3954,      0.3964,      0.3974,      0.3984,      0.3994,      0.4004,      0.4014,      0.4024,      0.4034,      0.4044,     0.40541,     0.40641,     0.40741,\n",
       "           0.40841,     0.40941,     0.41041,     0.41141,     0.41241,     0.41341,     0.41441,     0.41542,     0.41642,     0.41742,     0.41842,     0.41942,     0.42042,     0.42142,     0.42242,     0.42342,     0.42442,     0.42543,     0.42643,     0.42743,     0.42843,     0.42943,     0.43043,     0.43143,\n",
       "           0.43243,     0.43343,     0.43443,     0.43544,     0.43644,     0.43744,     0.43844,     0.43944,     0.44044,     0.44144,     0.44244,     0.44344,     0.44444,     0.44545,     0.44645,     0.44745,     0.44845,     0.44945,     0.45045,     0.45145,     0.45245,     0.45345,     0.45445,     0.45546,\n",
       "           0.45646,     0.45746,     0.45846,     0.45946,     0.46046,     0.46146,     0.46246,     0.46346,     0.46446,     0.46547,     0.46647,     0.46747,     0.46847,     0.46947,     0.47047,     0.47147,     0.47247,     0.47347,     0.47447,     0.47548,     0.47648,     0.47748,     0.47848,     0.47948,\n",
       "           0.48048,     0.48148,     0.48248,     0.48348,     0.48448,     0.48549,     0.48649,     0.48749,     0.48849,     0.48949,     0.49049,     0.49149,     0.49249,     0.49349,     0.49449,      0.4955,      0.4965,      0.4975,      0.4985,      0.4995,      0.5005,      0.5015,      0.5025,      0.5035,\n",
       "            0.5045,     0.50551,     0.50651,     0.50751,     0.50851,     0.50951,     0.51051,     0.51151,     0.51251,     0.51351,     0.51451,     0.51552,     0.51652,     0.51752,     0.51852,     0.51952,     0.52052,     0.52152,     0.52252,     0.52352,     0.52452,     0.52553,     0.52653,     0.52753,\n",
       "           0.52853,     0.52953,     0.53053,     0.53153,     0.53253,     0.53353,     0.53453,     0.53554,     0.53654,     0.53754,     0.53854,     0.53954,     0.54054,     0.54154,     0.54254,     0.54354,     0.54454,     0.54555,     0.54655,     0.54755,     0.54855,     0.54955,     0.55055,     0.55155,\n",
       "           0.55255,     0.55355,     0.55455,     0.55556,     0.55656,     0.55756,     0.55856,     0.55956,     0.56056,     0.56156,     0.56256,     0.56356,     0.56456,     0.56557,     0.56657,     0.56757,     0.56857,     0.56957,     0.57057,     0.57157,     0.57257,     0.57357,     0.57457,     0.57558,\n",
       "           0.57658,     0.57758,     0.57858,     0.57958,     0.58058,     0.58158,     0.58258,     0.58358,     0.58458,     0.58559,     0.58659,     0.58759,     0.58859,     0.58959,     0.59059,     0.59159,     0.59259,     0.59359,     0.59459,      0.5956,      0.5966,      0.5976,      0.5986,      0.5996,\n",
       "            0.6006,      0.6016,      0.6026,      0.6036,      0.6046,     0.60561,     0.60661,     0.60761,     0.60861,     0.60961,     0.61061,     0.61161,     0.61261,     0.61361,     0.61461,     0.61562,     0.61662,     0.61762,     0.61862,     0.61962,     0.62062,     0.62162,     0.62262,     0.62362,\n",
       "           0.62462,     0.62563,     0.62663,     0.62763,     0.62863,     0.62963,     0.63063,     0.63163,     0.63263,     0.63363,     0.63463,     0.63564,     0.63664,     0.63764,     0.63864,     0.63964,     0.64064,     0.64164,     0.64264,     0.64364,     0.64464,     0.64565,     0.64665,     0.64765,\n",
       "           0.64865,     0.64965,     0.65065,     0.65165,     0.65265,     0.65365,     0.65465,     0.65566,     0.65666,     0.65766,     0.65866,     0.65966,     0.66066,     0.66166,     0.66266,     0.66366,     0.66466,     0.66567,     0.66667,     0.66767,     0.66867,     0.66967,     0.67067,     0.67167,\n",
       "           0.67267,     0.67367,     0.67467,     0.67568,     0.67668,     0.67768,     0.67868,     0.67968,     0.68068,     0.68168,     0.68268,     0.68368,     0.68468,     0.68569,     0.68669,     0.68769,     0.68869,     0.68969,     0.69069,     0.69169,     0.69269,     0.69369,     0.69469,      0.6957,\n",
       "            0.6967,      0.6977,      0.6987,      0.6997,      0.7007,      0.7017,      0.7027,      0.7037,      0.7047,     0.70571,     0.70671,     0.70771,     0.70871,     0.70971,     0.71071,     0.71171,     0.71271,     0.71371,     0.71471,     0.71572,     0.71672,     0.71772,     0.71872,     0.71972,\n",
       "           0.72072,     0.72172,     0.72272,     0.72372,     0.72472,     0.72573,     0.72673,     0.72773,     0.72873,     0.72973,     0.73073,     0.73173,     0.73273,     0.73373,     0.73473,     0.73574,     0.73674,     0.73774,     0.73874,     0.73974,     0.74074,     0.74174,     0.74274,     0.74374,\n",
       "           0.74474,     0.74575,     0.74675,     0.74775,     0.74875,     0.74975,     0.75075,     0.75175,     0.75275,     0.75375,     0.75475,     0.75576,     0.75676,     0.75776,     0.75876,     0.75976,     0.76076,     0.76176,     0.76276,     0.76376,     0.76476,     0.76577,     0.76677,     0.76777,\n",
       "           0.76877,     0.76977,     0.77077,     0.77177,     0.77277,     0.77377,     0.77477,     0.77578,     0.77678,     0.77778,     0.77878,     0.77978,     0.78078,     0.78178,     0.78278,     0.78378,     0.78478,     0.78579,     0.78679,     0.78779,     0.78879,     0.78979,     0.79079,     0.79179,\n",
       "           0.79279,     0.79379,     0.79479,      0.7958,      0.7968,      0.7978,      0.7988,      0.7998,      0.8008,      0.8018,      0.8028,      0.8038,      0.8048,     0.80581,     0.80681,     0.80781,     0.80881,     0.80981,     0.81081,     0.81181,     0.81281,     0.81381,     0.81481,     0.81582,\n",
       "           0.81682,     0.81782,     0.81882,     0.81982,     0.82082,     0.82182,     0.82282,     0.82382,     0.82482,     0.82583,     0.82683,     0.82783,     0.82883,     0.82983,     0.83083,     0.83183,     0.83283,     0.83383,     0.83483,     0.83584,     0.83684,     0.83784,     0.83884,     0.83984,\n",
       "           0.84084,     0.84184,     0.84284,     0.84384,     0.84484,     0.84585,     0.84685,     0.84785,     0.84885,     0.84985,     0.85085,     0.85185,     0.85285,     0.85385,     0.85485,     0.85586,     0.85686,     0.85786,     0.85886,     0.85986,     0.86086,     0.86186,     0.86286,     0.86386,\n",
       "           0.86486,     0.86587,     0.86687,     0.86787,     0.86887,     0.86987,     0.87087,     0.87187,     0.87287,     0.87387,     0.87487,     0.87588,     0.87688,     0.87788,     0.87888,     0.87988,     0.88088,     0.88188,     0.88288,     0.88388,     0.88488,     0.88589,     0.88689,     0.88789,\n",
       "           0.88889,     0.88989,     0.89089,     0.89189,     0.89289,     0.89389,     0.89489,      0.8959,      0.8969,      0.8979,      0.8989,      0.8999,      0.9009,      0.9019,      0.9029,      0.9039,      0.9049,     0.90591,     0.90691,     0.90791,     0.90891,     0.90991,     0.91091,     0.91191,\n",
       "           0.91291,     0.91391,     0.91491,     0.91592,     0.91692,     0.91792,     0.91892,     0.91992,     0.92092,     0.92192,     0.92292,     0.92392,     0.92492,     0.92593,     0.92693,     0.92793,     0.92893,     0.92993,     0.93093,     0.93193,     0.93293,     0.93393,     0.93493,     0.93594,\n",
       "           0.93694,     0.93794,     0.93894,     0.93994,     0.94094,     0.94194,     0.94294,     0.94394,     0.94494,     0.94595,     0.94695,     0.94795,     0.94895,     0.94995,     0.95095,     0.95195,     0.95295,     0.95395,     0.95495,     0.95596,     0.95696,     0.95796,     0.95896,     0.95996,\n",
       "           0.96096,     0.96196,     0.96296,     0.96396,     0.96496,     0.96597,     0.96697,     0.96797,     0.96897,     0.96997,     0.97097,     0.97197,     0.97297,     0.97397,     0.97497,     0.97598,     0.97698,     0.97798,     0.97898,     0.97998,     0.98098,     0.98198,     0.98298,     0.98398,\n",
       "           0.98498,     0.98599,     0.98699,     0.98799,     0.98899,     0.98999,     0.99099,     0.99199,     0.99299,     0.99399,     0.99499,       0.996,       0.997,       0.998,       0.999,           1]), array([[    0.90653,     0.90653,     0.88595,     0.87596,     0.86831,     0.86037,     0.85303,     0.84891,     0.84597,     0.84362,     0.84186,     0.83774,     0.83539,     0.83245,      0.8301,     0.82716,     0.82422,     0.81893,     0.81775,     0.81658,     0.81339,      0.8107,     0.80894,\n",
       "            0.80717,     0.80423,     0.80352,     0.80012,      0.7994,       0.796,     0.79483,     0.79483,     0.79424,     0.79306,     0.79306,     0.79071,     0.79012,     0.78777,     0.78542,     0.78366,     0.78189,     0.78131,     0.78072,     0.77954,     0.77778,     0.77543,     0.77366,\n",
       "            0.77307,     0.77249,     0.77072,     0.77014,     0.76837,     0.76543,     0.76426,     0.76308,     0.76249,      0.7619,     0.76073,     0.75955,     0.75955,     0.75838,      0.7572,     0.75485,     0.75367,     0.75309,     0.75132,     0.74838,     0.74838,     0.74721,     0.74721,\n",
       "            0.74603,     0.74544,     0.74368,     0.74192,     0.74192,     0.74033,     0.73956,     0.73956,     0.73839,     0.73721,     0.73721,     0.73663,     0.73545,     0.73545,     0.73545,     0.73486,     0.73486,     0.73486,     0.73427,     0.73369,      0.7331,      0.7331,     0.73075,\n",
       "            0.72964,     0.72957,     0.72898,     0.72898,      0.7284,     0.72722,     0.72663,     0.72604,     0.72533,     0.72428,     0.72369,     0.72369,      0.7231,     0.72252,     0.72143,     0.72075,     0.71958,     0.71899,     0.71899,      0.7184,     0.71723,     0.71723,     0.71723,\n",
       "            0.71546,     0.71546,     0.71487,     0.71487,     0.71429,      0.7137,       0.712,     0.71135,     0.71026,     0.71017,     0.70909,     0.70899,     0.70899,     0.70899,     0.70841,     0.70723,     0.70723,     0.70547,     0.70429,     0.70429,     0.70429,      0.7037,      0.7037,\n",
       "            0.70264,     0.70253,     0.70253,     0.70094,     0.70027,       0.699,     0.69841,     0.69804,     0.69782,     0.69782,     0.69665,     0.69606,     0.69606,     0.69547,     0.69489,     0.69489,     0.69355,     0.69312,     0.69312,     0.69312,     0.69136,     0.69077,     0.69077,\n",
       "            0.68959,     0.68959,     0.68901,     0.68743,     0.68724,     0.68622,      0.6843,     0.68372,     0.68372,     0.68313,     0.68168,     0.68063,      0.6796,     0.67842,     0.67784,     0.67784,     0.67725,     0.67715,     0.67666,     0.67666,     0.67666,     0.67666,     0.67614,\n",
       "            0.67549,     0.67497,      0.6749,      0.6749,      0.6749,      0.6749,     0.67466,     0.67431,     0.67431,     0.67313,     0.67313,     0.67255,     0.67153,     0.67078,     0.67078,     0.67078,     0.66988,     0.66902,     0.66843,     0.66814,     0.66784,     0.66784,     0.66671,\n",
       "             0.6649,     0.66432,     0.66374,     0.66373,     0.66293,     0.66196,     0.66138,     0.65992,     0.65961,     0.65961,     0.65961,     0.65961,     0.65961,     0.65925,     0.65844,     0.65785,     0.65726,     0.65721,     0.65608,     0.65608,     0.65608,      0.6555,     0.65527,\n",
       "            0.65491,     0.65413,     0.65364,     0.65342,     0.65321,     0.65197,     0.65197,     0.65197,     0.65138,     0.65079,     0.65079,     0.65079,     0.64989,     0.64903,     0.64903,     0.64903,     0.64875,     0.64689,     0.64478,     0.64433,     0.64433,     0.64377,     0.64315,\n",
       "            0.64315,     0.64315,     0.64315,     0.64315,     0.64243,     0.64198,     0.64198,     0.64198,     0.64198,     0.64198,     0.64198,     0.64198,     0.64155,     0.64139,     0.63996,     0.63845,     0.63786,     0.63534,     0.63433,     0.63433,     0.63385,     0.63326,     0.63281,\n",
       "            0.63187,     0.63111,     0.63049,      0.6298,     0.62904,     0.62845,     0.62845,     0.62845,     0.62825,      0.6276,     0.62728,     0.62669,     0.62669,     0.62669,     0.62551,     0.62551,     0.62551,     0.62533,     0.62495,     0.62324,     0.62198,     0.62081,     0.62073,\n",
       "            0.62028,     0.61861,     0.61846,     0.61787,     0.61787,      0.6167,      0.6167,     0.61486,     0.61395,     0.61376,     0.61376,     0.61258,     0.61167,     0.60972,     0.60964,     0.60955,     0.60905,     0.60888,     0.60847,     0.60847,     0.60835,     0.60772,     0.60729,\n",
       "            0.60697,     0.60636,     0.60611,     0.60537,     0.60476,     0.60388,     0.60376,     0.60376,     0.60376,     0.60376,     0.60376,     0.60259,     0.60082,     0.60082,     0.59952,     0.59907,     0.59788,      0.5973,     0.59667,     0.59629,     0.59553,      0.5944,     0.59318,\n",
       "            0.59318,     0.59292,       0.592,     0.58965,     0.58965,      0.5889,     0.58848,     0.58848,     0.58818,      0.5873,     0.58554,     0.58476,     0.58377,     0.58319,     0.58315,     0.58284,      0.5826,     0.58195,     0.58082,     0.57996,     0.57946,     0.57907,     0.57886,\n",
       "            0.57859,      0.5779,     0.57613,     0.57414,     0.57358,     0.57246,     0.57202,     0.57084,     0.57025,     0.56953,     0.56917,     0.56766,     0.56678,     0.56522,     0.56391,     0.56296,     0.56084,     0.56041,     0.56026,     0.55952,     0.55909,     0.55825,     0.55787,\n",
       "             0.5575,     0.55713,     0.55677,     0.55574,     0.55452,     0.55398,     0.55262,     0.55203,     0.55144,     0.54936,      0.5476,     0.54643,     0.54602,     0.54573,     0.54556,     0.54498,     0.54497,     0.54497,     0.54393,      0.5429,     0.54178,     0.53984,     0.53851,\n",
       "             0.5367,     0.53603,     0.53566,     0.53439,     0.53286,     0.53217,     0.53084,     0.53028,     0.52918,     0.52625,     0.52474,     0.52353,     0.52267,     0.52199,     0.52087,     0.52064,     0.51993,     0.51969,     0.51911,     0.51852,     0.51705,     0.51558,     0.51499,\n",
       "            0.51378,     0.51282,     0.51264,     0.51264,     0.51241,     0.51205,      0.5106,      0.5097,     0.50733,     0.50546,     0.50441,     0.50323,     0.50202,      0.5015,     0.50088,     0.50088,     0.50029,     0.49997,     0.49971,     0.49912,     0.49797,     0.49687,     0.49523,\n",
       "            0.49335,     0.49089,     0.49039,     0.48793,     0.48609,     0.48535,     0.48453,      0.4829,     0.48178,     0.48063,     0.47827,     0.47678,     0.47678,     0.47645,     0.47583,     0.47443,      0.4741,     0.47344,     0.47231,     0.47085,     0.46945,     0.46875,     0.46796,\n",
       "            0.46709,     0.46544,      0.4632,      0.4629,     0.46267,     0.46208,     0.46049,     0.45924,     0.45682,      0.4562,     0.45452,      0.4537,     0.45272,       0.452,     0.45032,     0.44905,     0.44825,     0.44732,     0.44688,      0.4456,     0.44503,     0.44441,     0.44378,\n",
       "             0.4428,     0.44209,     0.44165,     0.43972,     0.43818,     0.43713,     0.43639,     0.43468,     0.43391,     0.43218,     0.43151,     0.43034,     0.42803,     0.42681,      0.4247,     0.42281,     0.42183,     0.42154,     0.42074,     0.42049,     0.41916,     0.41688,     0.41573,\n",
       "            0.41395,     0.41336,     0.41258,      0.4114,     0.41096,     0.40911,     0.40847,     0.40716,     0.40538,     0.40307,     0.40234,     0.40185,     0.40153,     0.40153,     0.40118,     0.39851,     0.39756,     0.39683,     0.39599,     0.39565,     0.39489,     0.39447,     0.39307,\n",
       "            0.39198,     0.39119,     0.39023,     0.38918,       0.388,     0.38665,     0.38433,      0.3829,      0.3811,     0.37978,     0.37854,     0.37826,     0.37797,     0.37764,     0.37726,     0.37653,     0.37457,     0.37133,     0.36995,     0.36861,     0.36501,     0.36342,     0.36128,\n",
       "            0.36037,     0.35846,     0.35524,     0.35422,     0.35289,     0.35097,     0.34999,     0.34883,     0.34826,     0.34736,     0.34558,     0.34328,     0.34166,     0.34025,     0.33949,     0.33688,     0.33488,      0.3341,     0.33249,     0.33168,     0.33044,     0.32981,     0.32851,\n",
       "            0.32791,     0.32752,     0.32648,     0.32523,     0.32464,     0.32295,     0.32141,     0.32084,     0.31679,     0.31525,     0.31337,     0.31032,     0.30815,     0.30604,     0.30488,     0.30419,     0.30353,     0.30335,     0.30262,     0.30164,     0.29937,     0.29725,     0.29665,\n",
       "            0.29543,     0.29267,     0.29191,      0.2905,       0.288,     0.28699,     0.28431,      0.2825,     0.28167,     0.27977,     0.27891,     0.27737,     0.27475,     0.27265,     0.26927,     0.26868,      0.2672,     0.26634,     0.26396,     0.26174,       0.261,     0.25859,     0.25679,\n",
       "            0.25637,     0.25576,     0.25295,     0.25133,     0.24985,     0.24927,     0.24709,     0.24563,     0.24396,     0.24212,     0.23885,      0.2381,      0.2381,     0.23648,     0.23547,     0.23447,     0.23295,     0.23185,      0.2299,     0.22903,     0.22772,     0.22643,     0.22509,\n",
       "            0.22475,     0.22405,      0.2222,      0.2214,     0.21891,     0.21632,     0.21502,     0.21389,     0.21182,     0.20983,     0.20942,     0.20712,     0.20466,       0.204,     0.20213,     0.19984,     0.19794,     0.19672,     0.19457,     0.19297,     0.19226,     0.18957,     0.18813,\n",
       "            0.18714,     0.18486,     0.18364,     0.18235,      0.1804,     0.17875,     0.17674,     0.17485,     0.17345,     0.17089,     0.16968,     0.16799,     0.16663,     0.16596,     0.16463,     0.16359,      0.1621,     0.15937,     0.15713,     0.15597,     0.15565,     0.15523,     0.15362,\n",
       "            0.15297,     0.15154,     0.15026,     0.14946,     0.14853,     0.14824,     0.14693,     0.14616,     0.14499,     0.14409,     0.14345,     0.14227,     0.14159,     0.13797,     0.13569,      0.1349,     0.13452,     0.13418,     0.13351,     0.13298,     0.13134,     0.13046,     0.12904,\n",
       "            0.12846,     0.12792,      0.1258,     0.12506,     0.12453,     0.12223,     0.12145,     0.11988,     0.11726,     0.11638,     0.11603,     0.11517,     0.11495,     0.11473,     0.11284,     0.11132,     0.11083,     0.11046,     0.10926,     0.10836,     0.10758,     0.10632,     0.10437,\n",
       "            0.10397,     0.10383,      0.1037,     0.10357,     0.10307,     0.10197,      0.1015,     0.10028,    0.099426,    0.098169,    0.097298,     0.09616,    0.095651,    0.095209,    0.094222,    0.093577,    0.092482,    0.092187,    0.092018,    0.091849,    0.091676,    0.091486,    0.091297,\n",
       "           0.091087,    0.090655,    0.089333,    0.088908,     0.08786,    0.087466,    0.087226,    0.086696,    0.086271,    0.086109,    0.085947,    0.085234,    0.084967,      0.0847,    0.084276,    0.083883,     0.08354,    0.082763,    0.082509,     0.08174,    0.080207,    0.079511,    0.079151,\n",
       "           0.078871,    0.078287,    0.077573,    0.077506,    0.077439,    0.077373,    0.077306,     0.07724,    0.077173,    0.077106,     0.07704,    0.076619,    0.076099,    0.075707,    0.075408,     0.07504,    0.074662,     0.07438,    0.074051,    0.072842,    0.072267,    0.071954,    0.071276,\n",
       "           0.070506,    0.069356,    0.067419,    0.067105,    0.066202,    0.065571,    0.065284,    0.064579,     0.06426,    0.063467,    0.062937,     0.06264,    0.062358,    0.061812,    0.061303,     0.05944,    0.058721,    0.058425,    0.057893,    0.056404,    0.055213,    0.054778,     0.05263,\n",
       "           0.050946,    0.050593,     0.05021,    0.049046,    0.046523,      0.0452,    0.043861,    0.042293,     0.04201,    0.041698,    0.040184,    0.036362,    0.035553,    0.033629,    0.032641,    0.032297,    0.031416,     0.03023,     0.02921,    0.028269,    0.026994,    0.025852,    0.025506,\n",
       "           0.024877,    0.023391,    0.023005,    0.021125,    0.020809,    0.018985,    0.017981,     0.01717,    0.014653,    0.014026,     0.01382,    0.013615,    0.013296,    0.012788,    0.011882,    0.010545,    0.010355,    0.010165,   0.0099692,   0.0097179,   0.0094665,   0.0088996,    0.007848,\n",
       "          0.0074344,   0.0071585,   0.0068181,   0.0064315,   0.0059539,   0.0054295,   0.0052316,   0.0051512,   0.0050709,   0.0049906,   0.0049103,     0.00483,   0.0047497,   0.0044733,   0.0040522,   0.0038695,   0.0036869,   0.0034226,   0.0026516,   0.0022562,   0.0020876,    0.001919,   0.0017306,\n",
       "          0.0013082,   0.0011184,   0.0010347,  0.00095102,  0.00086735,  0.00078368,  0.00070002,  0.00061635,           0,           0,           0,           0,           0,           0,           0,           0,           0,           0,           0,           0,           0,           0,           0,\n",
       "                  0,           0,           0,           0,           0,           0,           0,           0,           0,           0,           0,           0,           0,           0,           0,           0,           0,           0,           0,           0,           0,           0,           0,\n",
       "                  0,           0,           0,           0,           0,           0,           0,           0,           0,           0,           0,           0,           0,           0,           0,           0,           0,           0,           0,           0,           0,           0,           0,\n",
       "                  0,           0,           0,           0,           0,           0,           0,           0,           0,           0,           0]]), 'Confidence', 'Recall']]\n",
       "fitness: 0.3868125480889459\n",
       "keys: ['metrics/precision(B)', 'metrics/recall(B)', 'metrics/mAP50(B)', 'metrics/mAP50-95(B)']\n",
       "maps: array([    0.34879])\n",
       "names: {0: 'Microplastic'}\n",
       "plot: True\n",
       "results_dict: {'metrics/precision(B)': 0.7866376851392466, 'metrics/recall(B)': 0.6443268665490888, 'metrics/mAP50(B)': 0.7290040014550724, 'metrics/mAP50-95(B)': 0.3487912754927096, 'fitness': 0.3868125480889459}\n",
       "save_dir: PosixPath('runs/detect/train')\n",
       "speed: {'preprocess': 5.5394908961127785, 'inference': 200.94417356977277, 'loss': 4.3242585425283395e-05, 'postprocess': 1.3302471123489679}\n",
       "task: 'detect'"
      ]
     },
     "execution_count": 1,
     "metadata": {},
     "output_type": "execute_result"
    }
   ],
   "source": [
    "from ultralytics import YOLO\n",
    "\n",
    "# Load a model\n",
    "model = YOLO()\n",
    "model = YOLO(\"yolov8n.pt\") # load a pretrained model (recommended for training)\n",
    "\n",
    "# Use the model\n",
    "model.train(data=\"data.yaml\", epochs=50)  # train the model\n"
   ]
  },
  {
   "cell_type": "code",
   "execution_count": 2,
   "id": "8ec49c52-8719-4bd2-8014-a9b6d9eebc0c",
   "metadata": {},
   "outputs": [
    {
     "name": "stdout",
     "output_type": "stream",
     "text": [
      "Ultralytics YOLOv8.1.47 🚀 Python-3.11.7 torch-2.2.2 CPU (Intel Core(TM) i5-4260U 1.40GHz)\n",
      "Model summary (fused): 168 layers, 3005843 parameters, 0 gradients, 8.1 GFLOPs\n",
      "\u001b[34m\u001b[1mval: \u001b[0mScanning /Users/home/yolov8/valid/labels.cache... 204 images, 0 backgrounds\u001b[0m\n",
      "                 Class     Images  Instances      Box(P          R      mAP50  m\n",
      "                   all        204       1701      0.787      0.644      0.729      0.349\n",
      "Speed: 7.6ms preprocess, 323.8ms inference, 0.0ms loss, 20.3ms postprocess per image\n",
      "Results saved to \u001b[1mruns/detect/val\u001b[0m\n",
      "💡 Learn more at https://docs.ultralytics.com/modes/val\n"
     ]
    }
   ],
   "source": [
    "from ultralytics import YOLO\n",
    "\n",
    "!yolo task=detect mode=val model='/Users/home/yolov8/runs/detect/train/weights/best.pt' data=data.yaml"
   ]
  },
  {
   "cell_type": "code",
   "execution_count": 4,
   "id": "2f3cac15-b513-4cee-bd47-1a14ea16f307",
   "metadata": {},
   "outputs": [
    {
     "name": "stdout",
     "output_type": "stream",
     "text": [
      "Ultralytics YOLOv8.1.47 🚀 Python-3.11.7 torch-2.2.2 CPU (Intel Core(TM) i5-4260U 1.40GHz)\n",
      "Model summary (fused): 168 layers, 3005843 parameters, 0 gradients, 8.1 GFLOPs\n",
      "\n",
      "image 1/2 /Users/home/yolov8/test/1_jpg.rf.3bd160570ca04ce20d506e7d30bba9db.jpg: 640x640 40 Microplastics, 283.6ms\n",
      "image 2/2 /Users/home/yolov8/test/5_jpg.rf.bae5eab1f3f565c87534464393ff620a.jpg: 640x640 23 Microplastics, 213.4ms\n",
      "Speed: 11.6ms preprocess, 248.5ms inference, 1103.4ms postprocess per image at shape (1, 3, 640, 640)\n",
      "Results saved to \u001b[1mruns/detect/predict\u001b[0m\n",
      "💡 Learn more at https://docs.ultralytics.com/modes/predict\n"
     ]
    }
   ],
   "source": [
    "#predict with a custom model\n",
    "\n",
    "!yolo task=detect mode=predict model='/Users/home/yolov8/runs/detect/train/weights/best.pt' conf=0.25 source=test"
   ]
  },
  {
   "cell_type": "code",
   "execution_count": null,
   "id": "ea4fd198-20d8-4de7-a872-107445a4d400",
   "metadata": {},
   "outputs": [],
   "source": []
  }
 ],
 "metadata": {
  "kernelspec": {
   "display_name": "Python 3 (ipykernel)",
   "language": "python",
   "name": "python3"
  },
  "language_info": {
   "codemirror_mode": {
    "name": "ipython",
    "version": 3
   },
   "file_extension": ".py",
   "mimetype": "text/x-python",
   "name": "python",
   "nbconvert_exporter": "python",
   "pygments_lexer": "ipython3",
   "version": "3.11.7"
  }
 },
 "nbformat": 4,
 "nbformat_minor": 5
}
